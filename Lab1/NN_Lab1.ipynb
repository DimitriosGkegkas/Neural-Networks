{
  "nbformat": 4,
  "nbformat_minor": 0,
  "metadata": {
    "colab": {
      "name": "NN_Lab1.ipynb",
      "provenance": []
    },
    "kernelspec": {
      "name": "python3",
      "display_name": "Python 3"
    }
  },
  "cells": [
    {
      "cell_type": "code",
      "metadata": {
        "id": "VhreihXLC6ZC"
      },
      "source": [
        "try:\n",
        "  !git clone https://github.com/DimitriosGkegkas/Neural-Networks\n",
        "  f = open(\"Neural-Networks/Lab1/data/semeion.data\")\n",
        "except:\n",
        "  f=open(data/semeion.data)"
      ],
      "execution_count": 6,
      "outputs": []
    }
  ]
}