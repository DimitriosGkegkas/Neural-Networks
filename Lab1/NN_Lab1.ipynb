{
 "cells": [
  {
   "cell_type": "code",
   "execution_count": 145,
   "metadata": {},
   "outputs": [],
   "source": [
    "import pandas as pd\n",
    "import numpy as np\n",
    "import sklearn\n",
    "data = pd.read_csv(\"data/ionosphere.data\",header=None)"
   ]
  },
  {
   "cell_type": "markdown",
   "metadata": {},
   "source": [
    "# Νευρωνικά Δίκτυα \n",
    "## Εργασία 1\n",
    "### team 27\n",
    "Αυγερινού Ανδριάνα  03116192 <br>\n",
    "Βασιλείου Μαρία 03116167<br>\n",
    "Γκέγκας Δημήτριος 03116004\n"
   ]
  },
  {
   "cell_type": "markdown",
   "metadata": {},
   "source": [
    "# Μικρό DataSet (S07)"
   ]
  },
  {
   "cell_type": "markdown",
   "metadata": {},
   "source": [
    "## Βασικές πληροφορίες"
   ]
  },
  {
   "cell_type": "markdown",
   "metadata": {},
   "source": [
    "### 1. Σύντομη παρουσίαση του Dataset"
   ]
  },
  {
   "cell_type": "markdown",
   "metadata": {},
   "source": [
    "\n",
    "Το πρώτο dataset που θα εξετάσουμε είναι το [Ionosphere](http://archive.ics.uci.edu/ml/datasets/Ionosphere).  Πρόκειται για μία συλλογή από δεδομένα κεραιών που συλλέχτηκαν από το Goose Bay εργαστήριο. Συγκεκριμένα τα σήματα από τις 16 κεραίες  υψηλής συχνότητας επεξεργαστήκαν με μία αυτοσυχετική συνάρτηση και τα αποτελέσματα είναι 17 μιγαδική αριθμοί που αντιστοιχούν στο ηλεκτρομαγνητικό σήμα. Παρακάτω βλέπουμε την αυτοσυχετική συνάρτηση $R$<br>\n",
    "$$R(t,k)=\\sum_{i=0}^{16} C(t + iT)C^*[t + (i + k)T]$$ <br>\n",
    "όπου $k$ = pulse number (0,16) <br>\n",
    "$T$ =pulse repetition period <br>\n",
    "$C(t)$ = received signal\n",
    "\n",
    "Τα δεδομένα παρουσιάζουν για κάποιο pulse pattern εάν η Ιονόσφαιρα έχει την συγκεκριμένη δομή. Οπότε μιλάμε για ένα πρόβλημα δυαδικής ταξινόμησης ( \"good\" , \"bad\")\n"
   ]
  },
  {
   "cell_type": "code",
   "execution_count": 146,
   "metadata": {},
   "outputs": [
    {
     "data": {
      "text/html": [
       "<div>\n",
       "<style scoped>\n",
       "    .dataframe tbody tr th:only-of-type {\n",
       "        vertical-align: middle;\n",
       "    }\n",
       "\n",
       "    .dataframe tbody tr th {\n",
       "        vertical-align: top;\n",
       "    }\n",
       "\n",
       "    .dataframe thead th {\n",
       "        text-align: right;\n",
       "    }\n",
       "</style>\n",
       "<table border=\"1\" class=\"dataframe\">\n",
       "  <thead>\n",
       "    <tr style=\"text-align: right;\">\n",
       "      <th></th>\n",
       "      <th>0</th>\n",
       "      <th>1</th>\n",
       "      <th>2</th>\n",
       "      <th>3</th>\n",
       "      <th>4</th>\n",
       "      <th>5</th>\n",
       "      <th>6</th>\n",
       "      <th>7</th>\n",
       "      <th>8</th>\n",
       "      <th>9</th>\n",
       "      <th>...</th>\n",
       "      <th>25</th>\n",
       "      <th>26</th>\n",
       "      <th>27</th>\n",
       "      <th>28</th>\n",
       "      <th>29</th>\n",
       "      <th>30</th>\n",
       "      <th>31</th>\n",
       "      <th>32</th>\n",
       "      <th>33</th>\n",
       "      <th>34</th>\n",
       "    </tr>\n",
       "  </thead>\n",
       "  <tbody>\n",
       "    <tr>\n",
       "      <td>0</td>\n",
       "      <td>1</td>\n",
       "      <td>0</td>\n",
       "      <td>0.99539</td>\n",
       "      <td>-0.05889</td>\n",
       "      <td>0.85243</td>\n",
       "      <td>0.02306</td>\n",
       "      <td>0.83398</td>\n",
       "      <td>-0.37708</td>\n",
       "      <td>1.00000</td>\n",
       "      <td>0.03760</td>\n",
       "      <td>...</td>\n",
       "      <td>-0.51171</td>\n",
       "      <td>0.41078</td>\n",
       "      <td>-0.46168</td>\n",
       "      <td>0.21266</td>\n",
       "      <td>-0.34090</td>\n",
       "      <td>0.42267</td>\n",
       "      <td>-0.54487</td>\n",
       "      <td>0.18641</td>\n",
       "      <td>-0.45300</td>\n",
       "      <td>g</td>\n",
       "    </tr>\n",
       "    <tr>\n",
       "      <td>1</td>\n",
       "      <td>1</td>\n",
       "      <td>0</td>\n",
       "      <td>1.00000</td>\n",
       "      <td>-0.18829</td>\n",
       "      <td>0.93035</td>\n",
       "      <td>-0.36156</td>\n",
       "      <td>-0.10868</td>\n",
       "      <td>-0.93597</td>\n",
       "      <td>1.00000</td>\n",
       "      <td>-0.04549</td>\n",
       "      <td>...</td>\n",
       "      <td>-0.26569</td>\n",
       "      <td>-0.20468</td>\n",
       "      <td>-0.18401</td>\n",
       "      <td>-0.19040</td>\n",
       "      <td>-0.11593</td>\n",
       "      <td>-0.16626</td>\n",
       "      <td>-0.06288</td>\n",
       "      <td>-0.13738</td>\n",
       "      <td>-0.02447</td>\n",
       "      <td>b</td>\n",
       "    </tr>\n",
       "    <tr>\n",
       "      <td>2</td>\n",
       "      <td>1</td>\n",
       "      <td>0</td>\n",
       "      <td>1.00000</td>\n",
       "      <td>-0.03365</td>\n",
       "      <td>1.00000</td>\n",
       "      <td>0.00485</td>\n",
       "      <td>1.00000</td>\n",
       "      <td>-0.12062</td>\n",
       "      <td>0.88965</td>\n",
       "      <td>0.01198</td>\n",
       "      <td>...</td>\n",
       "      <td>-0.40220</td>\n",
       "      <td>0.58984</td>\n",
       "      <td>-0.22145</td>\n",
       "      <td>0.43100</td>\n",
       "      <td>-0.17365</td>\n",
       "      <td>0.60436</td>\n",
       "      <td>-0.24180</td>\n",
       "      <td>0.56045</td>\n",
       "      <td>-0.38238</td>\n",
       "      <td>g</td>\n",
       "    </tr>\n",
       "    <tr>\n",
       "      <td>3</td>\n",
       "      <td>1</td>\n",
       "      <td>0</td>\n",
       "      <td>1.00000</td>\n",
       "      <td>-0.45161</td>\n",
       "      <td>1.00000</td>\n",
       "      <td>1.00000</td>\n",
       "      <td>0.71216</td>\n",
       "      <td>-1.00000</td>\n",
       "      <td>0.00000</td>\n",
       "      <td>0.00000</td>\n",
       "      <td>...</td>\n",
       "      <td>0.90695</td>\n",
       "      <td>0.51613</td>\n",
       "      <td>1.00000</td>\n",
       "      <td>1.00000</td>\n",
       "      <td>-0.20099</td>\n",
       "      <td>0.25682</td>\n",
       "      <td>1.00000</td>\n",
       "      <td>-0.32382</td>\n",
       "      <td>1.00000</td>\n",
       "      <td>b</td>\n",
       "    </tr>\n",
       "    <tr>\n",
       "      <td>4</td>\n",
       "      <td>1</td>\n",
       "      <td>0</td>\n",
       "      <td>1.00000</td>\n",
       "      <td>-0.02401</td>\n",
       "      <td>0.94140</td>\n",
       "      <td>0.06531</td>\n",
       "      <td>0.92106</td>\n",
       "      <td>-0.23255</td>\n",
       "      <td>0.77152</td>\n",
       "      <td>-0.16399</td>\n",
       "      <td>...</td>\n",
       "      <td>-0.65158</td>\n",
       "      <td>0.13290</td>\n",
       "      <td>-0.53206</td>\n",
       "      <td>0.02431</td>\n",
       "      <td>-0.62197</td>\n",
       "      <td>-0.05707</td>\n",
       "      <td>-0.59573</td>\n",
       "      <td>-0.04608</td>\n",
       "      <td>-0.65697</td>\n",
       "      <td>g</td>\n",
       "    </tr>\n",
       "  </tbody>\n",
       "</table>\n",
       "<p>5 rows × 35 columns</p>\n",
       "</div>"
      ],
      "text/plain": [
       "   0   1        2        3        4        5        6        7        8   \\\n",
       "0   1   0  0.99539 -0.05889  0.85243  0.02306  0.83398 -0.37708  1.00000   \n",
       "1   1   0  1.00000 -0.18829  0.93035 -0.36156 -0.10868 -0.93597  1.00000   \n",
       "2   1   0  1.00000 -0.03365  1.00000  0.00485  1.00000 -0.12062  0.88965   \n",
       "3   1   0  1.00000 -0.45161  1.00000  1.00000  0.71216 -1.00000  0.00000   \n",
       "4   1   0  1.00000 -0.02401  0.94140  0.06531  0.92106 -0.23255  0.77152   \n",
       "\n",
       "        9   ...       25       26       27       28       29       30  \\\n",
       "0  0.03760  ... -0.51171  0.41078 -0.46168  0.21266 -0.34090  0.42267   \n",
       "1 -0.04549  ... -0.26569 -0.20468 -0.18401 -0.19040 -0.11593 -0.16626   \n",
       "2  0.01198  ... -0.40220  0.58984 -0.22145  0.43100 -0.17365  0.60436   \n",
       "3  0.00000  ...  0.90695  0.51613  1.00000  1.00000 -0.20099  0.25682   \n",
       "4 -0.16399  ... -0.65158  0.13290 -0.53206  0.02431 -0.62197 -0.05707   \n",
       "\n",
       "        31       32       33  34  \n",
       "0 -0.54487  0.18641 -0.45300   g  \n",
       "1 -0.06288 -0.13738 -0.02447   b  \n",
       "2 -0.24180  0.56045 -0.38238   g  \n",
       "3  1.00000 -0.32382  1.00000   b  \n",
       "4 -0.59573 -0.04608 -0.65697   g  \n",
       "\n",
       "[5 rows x 35 columns]"
      ]
     },
     "execution_count": 146,
     "metadata": {},
     "output_type": "execute_result"
    }
   ],
   "source": [
    "data.head()"
   ]
  },
  {
   "cell_type": "markdown",
   "metadata": {},
   "source": [
    "### 2. Αριθμός δειγμάτων και χαρακτηριστικών, είδος χαρακτηριστικών. Υπάρχουν μη διατεταγμένα χαρακτηριστικά και ποια είναι αυτά;"
   ]
  },
  {
   "cell_type": "markdown",
   "metadata": {},
   "source": [
    "To dataset περιέχει 351 δείγματα, με 34 χαρακτηριστικά και την κλάση όπου ανήκει το δείγμα.  Τα χαρακτηριστικά είναι συνεχή και κανονικοποιημένα στο διάστημα $[-1,1]$ . Δεν έχουμε μη διατεταγμένα χαρακτηριστικά."
   ]
  },
  {
   "cell_type": "markdown",
   "metadata": {},
   "source": [
    "### 3. Υπάρχουν επικεφαλίδες; Αρίθμηση γραμμών;"
   ]
  },
  {
   "cell_type": "markdown",
   "metadata": {},
   "source": [
    "Το dataset δεν περιέχει επικεφαλίδες, ούτε αρίθμηση γραμμών."
   ]
  },
  {
   "cell_type": "markdown",
   "metadata": {},
   "source": [
    "### 4. Ποιες είναι οι ετικέτες των κλάσεων και σε ποια κολόνα βρίσκονται; "
   ]
  },
  {
   "cell_type": "markdown",
   "metadata": {},
   "source": [
    "Η ετικέτες των κλάσεων βρίσκονται στην τελευταία στήλη και έχουνε τιμές ‘g’ και ‘b’ που αντιστοιχούν στις κλάσεις “good” και “bad” αντίστοιχα. "
   ]
  },
  {
   "cell_type": "markdown",
   "metadata": {},
   "source": [
    "### 5. Χρειάστηκε να κάνετε μετατροπές στα αρχεία text και ποιες; "
   ]
  },
  {
   "cell_type": "markdown",
   "metadata": {},
   "source": [
    "Από το dataset πήραμε τις 34 πρώτες στήλες ώς features και την τελευταία στήλη ως labels. Τα labels τα μετατρέψαμε σε αριθμητική τιμή (0,1). Όπου 1 αντιστοιχεί στην κλάση \"good\" και 0 στην κλάση \"bad\"."
   ]
  },
  {
   "cell_type": "code",
   "execution_count": 147,
   "metadata": {},
   "outputs": [],
   "source": [
    "labels=(data[34]==\"g\").to_numpy().astype(int)\n",
    "features=data.drop(labels=34,axis=1).to_numpy()"
   ]
  },
  {
   "cell_type": "markdown",
   "metadata": {},
   "source": [
    "### 6. Υπάρχουν απουσιάζουσες τιμές; Πόσα είναι τα δείγματα με απουσιάζουσες τιμές και ποιο το ποσοστό τους επί του συνόλου; "
   ]
  },
  {
   "cell_type": "markdown",
   "metadata": {},
   "source": [
    "Τα δεδομένα μας δεν περιέχουν missing values. "
   ]
  },
  {
   "cell_type": "code",
   "execution_count": 148,
   "metadata": {},
   "outputs": [
    {
     "data": {
      "text/plain": [
       "False"
      ]
     },
     "execution_count": 148,
     "metadata": {},
     "output_type": "execute_result"
    }
   ],
   "source": [
    "data.isnull().values.any()"
   ]
  },
  {
   "cell_type": "markdown",
   "metadata": {},
   "source": [
    "### 7. Ποιος είναι ο αριθμός των κλάσεων και τα ποσοστά δειγμάτων τους επί του συνόλου; Αν θεωρήσουμε ότι ένα dataset είναι μη ισορροπημένο αν μια οποιαδήποτε κλάση είναι 1.5 φορά πιο συχνή από κάποια άλλη (60%-40% σε binary datasets) εκτιμήστε την ισορροπία του dataset."
   ]
  },
  {
   "cell_type": "markdown",
   "metadata": {},
   "source": [
    "Έχουμε δύο κλάσεις, την \"good\" και την \"bad\" που αντιστοιχούν σε label 1 και 0."
   ]
  },
  {
   "cell_type": "code",
   "execution_count": 149,
   "metadata": {},
   "outputs": [
    {
     "name": "stdout",
     "output_type": "stream",
     "text": [
      "Το 64.1% των δεδομένων είναι good και το υπόλοιπο 35.9% είναι bad\n",
      "Η ισορροπία του dataset 1.79\n"
     ]
    }
   ],
   "source": [
    "Pgood=100*sum(labels==1)/len(labels)\n",
    "Pbad=100*sum(labels==0)/len(labels)\n",
    "print(\"Το \"+str(round(Pgood,2)) + \"% των δεδομένων είναι good και το υπόλοιπο \" +str(round(Pbad,2))+ \"% είναι bad\")\n",
    "print(\"Η ισορροπία του dataset \"+str(round(Pgood/Pbad,2)))"
   ]
  },
  {
   "cell_type": "markdown",
   "metadata": {},
   "source": [
    "### 8. Διαχωρίστε σε train και test set. Εάν υπάρχουν απουσιάζουσες τιμές και μη διατεταγμένα χαρακτηριστικά διαχειριστείτε τα και αιτιολογήστε τις επιλογές σας."
   ]
  },
  {
   "cell_type": "markdown",
   "metadata": {},
   "source": [
    "Χωρίζουμε τα χαρακτηριστικά μας σε train και test sets."
   ]
  },
  {
   "cell_type": "code",
   "execution_count": 150,
   "metadata": {},
   "outputs": [],
   "source": [
    "from sklearn.model_selection import train_test_split\n",
    "X_train, X_test , y_train, y_test = train_test_split(features,labels,test_size=0.2,shuffle=True,random_state=20204)"
   ]
  },
  {
   "cell_type": "markdown",
   "metadata": {},
   "source": [
    "# Ταξινόμηση"
   ]
  },
  {
   "cell_type": "markdown",
   "metadata": {},
   "source": [
    "Σε αυτό το dataset θα δούμε τους 3 παρακάτω Classifiers: \n",
    "* Dummy Classifier: όπου χρησιμοποιείται ως βάση για την αξιολόγηση των υπόλοιπων Classifier.\n",
    "* K - Νearest Neighbors: όπου κάνει πρόβλεψη με βάση του K κοντινότερους γείτονες. Συγκεκριμένα επιστρέφει την κλάση στην οποία ανήκουν οι περισσότεροι από αυτούς τους γείτονες.\n",
    "* Gaussian Naïve Bayes Classifier: Ένα Bayes Classifier ταξινομεί το δείγμα X στην κλάση 𝑪𝒚 σύμφωνα με τον παρακάτω κανόνα. \n",
    "$$y= argmax_{k \\in (1,2,...,N)} {P(C_k)*P(X|C_k)} $$\n",
    "Ενώ ένας Naïve Bayes Classifier για να απλοποιήσει το μοντέλο κάνει την υπόθεση ότι τα χαρακτηριστικά του κάθε δείγματος είναι ανεξάρτητα και ασυσχέτιστα μεταξύ τους. Έτσι καταλήγει στον παρακάτω απλοποιημένο κανόνα.\n",
    "$$y= argmax_{k \\in (1,2,...,N)} {P(C_k)\\prod_{i=0}^F P(x_i|C_k)} $$"
   ]
  },
  {
   "cell_type": "code",
   "execution_count": 151,
   "metadata": {},
   "outputs": [],
   "source": [
    "from sklearn.dummy import DummyClassifier\n",
    "from sklearn.neighbors import KNeighborsClassifier\n",
    "from sklearn.naive_bayes import GaussianNB\n",
    "from IPython.display import Markdown as md"
   ]
  },
  {
   "cell_type": "markdown",
   "metadata": {},
   "source": [
    "### Baseline Classification"
   ]
  },
  {
   "cell_type": "markdown",
   "metadata": {},
   "source": [
    "### 1. Διαχειριστείτε τυχόν απουσιάζουσες τιμές. Εκπαιδεύστε στο train τους classifiers με default τιμές (απλή αρχικοποίηση). Κάντε εκτίμηση στο test set (μαζί με τους dummy) και τυπώστε για κάθε estimator: confusion matrix, f1-micro average και f1-macro average.\n",
    "\n",
    "### 2. Για κάθε averaged metric, εκτυπώστε bar plot συγκρισης με τις τιμές του συγκεκριμένου f1 για όλους τους classifiers.\n",
    "\n",
    "### 3. Σχολιάστε τα αποτελέσματα των plots και των τιμών precision, recall, f1 των πινάκων σύγχυσης"
   ]
  },
  {
   "cell_type": "markdown",
   "metadata": {},
   "source": [
    "Παρακάτω βλέπουμε τις μετρικές με βάση τις οποίες θα αξιολογήσουμε τους classifiers μας. <br>\n",
    "\n",
    "Ακρίβεια -Precision- ( P ) είναι ο λόγος των true positives ( Tp ) ως προς τον αριθμό των true positives συν τον αριθμό των false positives ( Fp ).\n",
    "\n",
    "$$ P = { T_p \\over {T_p+F_p}}$$ \n",
    "\n",
    "Ανάκληση -Recall- ( R ) είναι ο λόγος των true positives ( Tp ) ως προς τον αριθμό των true positives συν τον αριθμό των false negatives ( Fn ).\n",
    "\n",
    "$$R = {{T_p} \\over{ T_p+F_n}}$$ \n",
    "\n",
    "Συχνά χρησιμοποιούμε και το ( F1 ) score, το οποίο είναι ο αρμονικός μέσος της ακρίβειας και της ανάκλησης.\n",
    "\n",
    "$$F_1= 2  {   {P×R}\\over{P+R}}$$\n",
    "\n",
    "Κάθε μία από τις παραπάνω μετρικές αναφέρεται σε μία κλάση. Για να βρούμε το αποτέλεσμα για τον Classifier πρέπει να πάρουμε έναν μέσο όρο. Θα χρησιμοποιήσουμε δύο avg τακτικές, την micro και την macro. <br> \n",
    "Με την macro ουσιαστικά παίρνουμε έναν μέσο όρο ως προς τον αριθμό των κλάσεων. Ενώ με την micro παίρνουμε τον μέσο όρο του κάθε δείγματος. Στην περίπτωση μας η micro avg ισοδυναμεί με ένα weight avg, όπου έχουμε τον μέσο όρο τον κλάσεων με βάρος το ποσοστό των δειγμάτων στο dataset. "
   ]
  },
  {
   "cell_type": "code",
   "execution_count": 175,
   "metadata": {},
   "outputs": [],
   "source": [
    "from sklearn.metrics import classification_report\n",
    "from sklearn.metrics import confusion_matrix\n",
    "import matplotlib.pyplot as plt\n",
    "from sklearn.datasets import make_classification\n",
    "import seaborn as sns\n",
    "from sklearn.metrics import precision_recall_fscore_support\n",
    "\n",
    "def show_evaluation(X_test,y_test,clf_list,labels,ticklabel):\n",
    "    for clf,name in zip(clf_list,labels):\n",
    "        print(name)\n",
    "        predict=clf.predict(X_test)\n",
    "        report=classification_report(y_test,predict,labels=list(range(len(ticklabel))),target_names=ticklabel)\n",
    "        print(\"The classification report for \"+name)\n",
    "        print(report)\n",
    "        print(\"The confusion matrix for \"+name)\n",
    "        sns.heatmap(confusion_matrix(y_test,predict),xticklabels=ticklabel,yticklabels=ticklabel)\n",
    "        plt.show()\n",
    "\n",
    "\n",
    "def show_metrics(X_test,y_test,clf_list,labels,ticklabel):\n",
    "    f1_micro=[]\n",
    "    f1_macro=[]\n",
    "    recall_micro=[]\n",
    "    recall_macro=[]\n",
    "    precision_micro=[]\n",
    "    precision_macro=[]\n",
    "    for clf,name in zip(clf_list,labels):\n",
    "        predict=clf.predict(X_test)\n",
    "        report=classification_report(y_test,predict,labels=list(range(len(ticklabel))),target_names=ticklabel)\n",
    "        macro=precision_recall_fscore_support(y_test, predict, average='macro')\n",
    "        micro=precision_recall_fscore_support(y_test, predict, average='micro')\n",
    "        precision_macro.append(macro[0])\n",
    "        precision_micro.append(micro[0])\n",
    "        recall_macro.append(macro[1])\n",
    "        recall_micro.append(micro[1])\n",
    "        f1_macro.append(macro[2])\n",
    "        f1_micro.append(micro[2])\n",
    "    print(\"# Metrics for all classifiers\")\n",
    "    # width of the bars\n",
    "    barWidth = 0.1\n",
    "    # The x position of bars\n",
    "    r1 = np.arange(len(f1_micro))\n",
    "    r2 = [x + barWidth for x in r1]\n",
    "    r3 = [x + barWidth for x in r2]\n",
    "    r4 = [x + barWidth for x in r3]\n",
    "    r5 = [x + barWidth for x in r4]\n",
    "    r6 = [x + barWidth for x in r5]\n",
    "    # Create blue bars\n",
    "    plt.bar(r1, f1_micro, width = barWidth, color = 'blue', edgecolor = 'black', capsize=7, label='f1_micro')\n",
    "    # Create cyan bars\n",
    "    plt.bar(r2, f1_macro, width = barWidth, color = 'cyan', edgecolor = 'black', capsize=7, label='f1_macro')\n",
    "    # Create blue bars\n",
    "    plt.bar(r3, recall_micro, width = barWidth, color = 'pink', edgecolor = 'black', capsize=7, label='recall_micro')\n",
    "    # Create cyan bars\n",
    "    plt.bar(r4, recall_macro, width = barWidth, color = 'red', edgecolor = 'black', capsize=7, label='recall_macro')\n",
    "    # Create blue bars\n",
    "    plt.bar(r5, precision_micro, width = barWidth, color = 'orange', edgecolor = 'black', capsize=7, label='precision_micro')\n",
    "    # Create cyan bars\n",
    "    plt.bar(r6, precision_macro, width = barWidth, color = 'yellow', edgecolor = 'black', capsize=7, label='precision_macro')\n",
    "    \n",
    "    # general layout\n",
    "    plt.xticks([r + barWidth for r in range(len(f1_micro))], labels,rotation=45)\n",
    "    plt.ylabel('F1 metric')\n",
    "    plt.legend(loc='lower right')\n",
    "\n",
    "    # Show graphic\n",
    "    plt.show()"
   ]
  },
  {
   "cell_type": "code",
   "execution_count": 159,
   "metadata": {},
   "outputs": [],
   "source": [
    "# init classifiers\n",
    "clf_Dummy=DummyClassifier(strategy=\"stratified\")\n",
    "clf_KNN=KNeighborsClassifier(n_jobs=-1)\n",
    "clf_GNB=GaussianNB()\n",
    "\n",
    "#fit train set's data\n",
    "clf_Dummy=clf_Dummy.fit(X_train,y_train)\n",
    "clf_KNN=clf_KNN.fit(X_train,y_train)\n",
    "clf_GNB=clf_GNB.fit(X_train,y_train)"
   ]
  },
  {
   "cell_type": "code",
   "execution_count": 160,
   "metadata": {},
   "outputs": [
    {
     "name": "stdout",
     "output_type": "stream",
     "text": [
      "Dummy\n",
      "The classification report for Dummy\n",
      "              precision    recall  f1-score   support\n",
      "\n",
      "         Bad       0.33      0.35      0.34        23\n",
      "        Good       0.68      0.67      0.67        48\n",
      "\n",
      "    accuracy                           0.56        71\n",
      "   macro avg       0.51      0.51      0.51        71\n",
      "weighted avg       0.57      0.56      0.57        71\n",
      "\n",
      "The confusion matrix for Dummy\n"
     ]
    },
    {
     "data": {
      "image/png": "[encoded data removed]",
      "text/plain": [
       "<Figure size 432x288 with 2 Axes>"
      ]
     },
     "metadata": {
      "needs_background": "light"
     },
     "output_type": "display_data"
    }
   ],
   "source": [
    "show_evaluation(X_test,y_test,[clf_Dummy],[\"Dummy\"],[\"Bad\",\"Good\"])"
   ]
  },
  {
   "cell_type": "markdown",
   "metadata": {},
   "source": [
    "Όπως παρατηρούμε ο Dummy classifier έχει macro avg F1 43%, ενώ micro avg 50%. Αυτό συμβαίνει καθώς το dataset μας έχει περισσότερα “good” δείγματα, διότι δεν είναι ισορροπημένο. Στην κλάση “good” ο dummy έχει αρκετά καλύτερη απόδοση στην ταξινόμηση των δειγμάτων σε σχέση με τα “bad” οπότε ένας weighted μέσος όρος έχει καλύτερα αποτελέσματα από έναν macro. Για τον ίδιο λόγο το accuracy έχει υψηλό επίπεδο, ενώ βλέπουμε ότι κανένα από τα δείγματα της “bad” δεν ταξινομείται σωστά. Γενικά, θέλουμε trade-off μεταξύ της micro και macro μετρικής."
   ]
  },
  {
   "cell_type": "code",
   "execution_count": 12,
   "metadata": {},
   "outputs": [
    {
     "name": "stdout",
     "output_type": "stream",
     "text": [
      "KNN\n",
      "The classification report for KNN\n",
      "              precision    recall  f1-score   support\n",
      "\n",
      "         Bad       0.93      0.57      0.70        23\n",
      "        Good       0.82      0.98      0.90        48\n",
      "\n",
      "    accuracy                           0.85        71\n",
      "   macro avg       0.88      0.77      0.80        71\n",
      "weighted avg       0.86      0.85      0.83        71\n",
      "\n",
      "The confusion matrix for KNN\n"
     ]
    },
    {
     "data": {
      "image/png": "[encoded data removed]",
      "text/plain": [
       "<Figure size 432x288 with 2 Axes>"
      ]
     },
     "metadata": {
      "needs_background": "light"
     },
     "output_type": "display_data"
    }
   ],
   "source": [
    "show_evaluation(X_test,y_test,[clf_KNN],[\"KNN\"],[\"Bad\",\"Good\"])"
   ]
  },
  {
   "cell_type": "markdown",
   "metadata": {},
   "source": [
    "Βλέποντας τώρα τον KNN classifier, έχουμε εμφανώς καλύτερα αποτελέσματα. Έχουμε recall για την κλάση “good” στο 98%, το οποίο σημαίνει ότι τα δείγματα της “good” ταξινομούνται σωστά. Βλέπουμε από την άλλη ένα αρκετά καλό precision της “bad” κλάσης (93%), το οποίο αρχικά θα ήταν misleading εάν δεν βλέπαμε τις υπόλοιπες μετρικές. Καθώς το recall της “bad” είναι πολύ χαμηλό, καταλαβαίνουμε ότι το υψηλό ποσοστό στο precision οφείλεται στην μείωση των False Positive για την κλάση “bad” (ταξινομήθηκαν στην κλάση “bad” ένω είναι “good”) καθώς ταξινομούνται αρκετά καλά τα “good” δείγματα."
   ]
  },
  {
   "cell_type": "code",
   "execution_count": 13,
   "metadata": {
    "scrolled": false
   },
   "outputs": [
    {
     "name": "stdout",
     "output_type": "stream",
     "text": [
      "GNB\n",
      "The classification report for GNB\n",
      "              precision    recall  f1-score   support\n",
      "\n",
      "         Bad       0.84      0.91      0.87        23\n",
      "        Good       0.96      0.92      0.94        48\n",
      "\n",
      "    accuracy                           0.92        71\n",
      "   macro avg       0.90      0.91      0.91        71\n",
      "weighted avg       0.92      0.92      0.92        71\n",
      "\n",
      "The confusion matrix for GNB\n"
     ]
    },
    {
     "data": {
      "image/png": "[encoded data removed]",
      "text/plain": [
       "<Figure size 432x288 with 2 Axes>"
      ]
     },
     "metadata": {
      "needs_background": "light"
     },
     "output_type": "display_data"
    }
   ],
   "source": [
    "show_evaluation(X_test,y_test,[clf_GNB],[\"GNB\"],[\"Bad\",\"Good\"])"
   ]
  },
  {
   "cell_type": "markdown",
   "metadata": {},
   "source": [
    "Τέλος, ο GNB πετυχαίνει, χωρίς καμία βελτιστοποίηση, ένα accuracy 92%, με την F1 μετρική να είναι επίσης 92% (για micro και 91% για macro). Αυτό φαίνεται και στο confusion matrix όπου έχουμε αρκετά καλή εικόνα της επίδοσης του classifier. Από τους τρεις classifiers φαίνεται να έχει την καλύτερη απόδοση και την μικρότερη διακύμανση στις μετρικές. Παρατηρούμε ότι, παρα το γεγονός ότι η recall και για τις δύο κλάσεις είναι στο 91-92%, έχουμε απόκλιση των τιμών στο precision. Αυτό οφείλεται στο γεγονός ότι τα “bad” δεδομένα έχουν λιγότερα δείγματα, οπότε κάθε classifier θα είναι σε θέση να εκπαιδευτεί καλύτερα πάνω στα “good” δεδομένα από τα “bad”."
   ]
  },
  {
   "cell_type": "code",
   "execution_count": 14,
   "metadata": {},
   "outputs": [
    {
     "name": "stdout",
     "output_type": "stream",
     "text": [
      "# Metrics for all classifiers\n"
     ]
    },
    {
     "data": {
      "image/png": "[encoded data removed]",
      "text/plain": [
       "<Figure size 432x288 with 1 Axes>"
      ]
     },
     "metadata": {
      "needs_background": "light"
     },
     "output_type": "display_data"
    }
   ],
   "source": [
    "show_metrics(X_test,y_test,[clf_Dummy,clf_KNN,clf_GNB],[\"Dummy\",\"KNN\",\"GNB\"],[\"Bad\",\"Good\"])"
   ]
  },
  {
   "cell_type": "markdown",
   "metadata": {},
   "source": [
    "\n",
    "Στο τελευταίο διάγραμμα φαίνονται καλύτερα όλες οι μετρικές και για τους τρεις classifiers. Ο dummy είναι σαφώς υποδεέστερος απ’ τους άλλους δύο αλλά μας χρησιμεύει ως ένα κατώφλι απόδοσης για τις παρακάτω προσπάθειες βελτιστοποίησης του classification."
   ]
  },
  {
   "cell_type": "markdown",
   "metadata": {},
   "source": [
    "## Βελτιστοποίηση ταξινομητών"
   ]
  },
  {
   "cell_type": "markdown",
   "metadata": {},
   "source": [
    "Στην συνέχεια, θα προσπαθήσουμε να βελτιστοποιήσουμε τους παραπάνω classifiers με την διαδικασία του preprocessing "
   ]
  },
  {
   "cell_type": "code",
   "execution_count": 15,
   "metadata": {},
   "outputs": [],
   "source": [
    "#from sklearn.pipeline import Pipeline\n",
    "from imblearn.pipeline import Pipeline\n",
    "\n",
    "from sklearn.feature_selection import VarianceThreshold\n",
    "from sklearn.preprocessing import StandardScaler # φέρνουμε τον StandarScaler ως transformer που έχει .transform kai ΄όχι ως scale()\n",
    "from imblearn.over_sampling import RandomOverSampler\n",
    "from sklearn.decomposition import PCA\n",
    "\n",
    "def get_best_parameters(X_train, y_train,untrained_estimators,labels):\n",
    "    estimators=[]\n",
    "    f1_micro=[]\n",
    "    f1_macro=[]\n",
    "    recall_micro=[]\n",
    "    recall_macro=[]\n",
    "    precision_micro=[]\n",
    "    precision_macro=[]\n",
    "    time_train=[]\n",
    "    param=[]\n",
    "    for estimator,name in zip(untrained_estimators,labels):\n",
    "        start_time = time.time()\n",
    "        trained=estimator.fit(X_train, y_train)\n",
    "        estimators.append(trained)\n",
    "        preds = estimator.predict(X_test)\n",
    "        macro=precision_recall_fscore_support(y_test, preds, average='macro')\n",
    "        micro=precision_recall_fscore_support(y_test, preds, average='micro')\n",
    "        precision_macro.append(macro[0])\n",
    "        precision_micro.append(micro[0])\n",
    "        recall_macro.append(macro[1])\n",
    "        recall_micro.append(micro[1])\n",
    "        f1_macro.append(macro[2])\n",
    "        f1_micro.append(micro[2])\n",
    "        time_train.append(time.time() - start_time)\n",
    "        param.append(estimator.best_params_)\n",
    "    result_para_total=[]\n",
    "    for para in param:\n",
    "        result_para=[]\n",
    "        for s,i in para.items():\n",
    "            result_para.append((s.split(\"__\")[1],i))\n",
    "        result_para_total.append(result_para)\n",
    "    stats=pd.DataFrame(data={\"precision (macro)\":precision_macro ,\"precision (micro)\":precision_micro,\"recall (macro)\" : recall_macro , \"recall (micro)\" : recall_micro ,\"f1 (macro)\" :f1_macro ,\"f1 (micro)\":f1_micro  , \"time to train\" :time_train, \"parameters\": result_para_total },index=labels)\n",
    "    return (estimators,stats)"
   ]
  },
  {
   "cell_type": "code",
   "execution_count": 16,
   "metadata": {},
   "outputs": [
    {
     "name": "stdout",
     "output_type": "stream",
     "text": [
      "[0.09566327 0.         0.2441664  0.18393794 0.26589746 0.20169667\n",
      " 0.22771267 0.27190032 0.27213169 0.2398717  0.31354157 0.24472723\n",
      " 0.39410788 0.24360579 0.44043537 0.20021932 0.39665148 0.23530026\n",
      " 0.42086954 0.26182952 0.37079406 0.2671549  0.34871054 0.27541214\n",
      " 0.32905711 0.25569679 0.27255545 0.29659084 0.32732609 0.24636971\n",
      " 0.31897467 0.25589764 0.25724828 0.199455  ]\n"
     ]
    }
   ],
   "source": [
    "train_variance = X_train.var(axis=0)\n",
    "print(train_variance)"
   ]
  },
  {
   "cell_type": "code",
   "execution_count": 17,
   "metadata": {},
   "outputs": [],
   "source": [
    "from sklearn.model_selection import GridSearchCV\n",
    "vthreshold = [0,0.1,0.2,0.3]\n",
    "k = [1,3, 5,7, 9, 11, 21, 31] # η υπερπαράμετρος του ταξινομητή kNN"
   ]
  },
  {
   "cell_type": "code",
   "execution_count": 18,
   "metadata": {},
   "outputs": [],
   "source": [
    "selector = VarianceThreshold()\n",
    "ros = RandomOverSampler()\n",
    "\n",
    "scoring=[\"f1_micro\",\"f1_macro\"]\n",
    "\n",
    "pipe_Dummy = Pipeline(steps=[('selector', selector), ('sampler', ros), ('dummy', clf_Dummy)], memory = 'tmp')\n",
    "pipe_GNB = Pipeline(steps=[('selector', selector), ('sampler', ros), ('gnb', clf_GNB)],memory = 'tmp')\n",
    "pipe_KNN = Pipeline(steps=[('selector', selector), ('sampler', ros), ('knn', clf_KNN)], memory = 'tmp')\n",
    "\n",
    "\n",
    "estimator_Dummy_micro = GridSearchCV(pipe_Dummy, dict(selector__threshold=vthreshold), cv=10, scoring='f1_micro', n_jobs=-1)\n",
    "estimator_GNB_micro = GridSearchCV(pipe_GNB, dict(selector__threshold=vthreshold), cv=10, scoring='f1_micro', n_jobs=-1)\n",
    "estimator_KNN_micro = GridSearchCV(pipe_KNN, dict(selector__threshold=vthreshold,knn__n_neighbors=k), cv=10, scoring='f1_micro', n_jobs=-1)\n",
    "\n",
    " \n",
    "estimator_Dummy_macro = GridSearchCV(pipe_Dummy, dict(selector__threshold=vthreshold), cv=10, scoring='f1_macro', n_jobs=-1)\n",
    "estimator_GNB_macro = GridSearchCV(pipe_GNB, dict(selector__threshold=vthreshold), cv=10, scoring='f1_macro', n_jobs=-1)\n",
    "estimator_KNN_macro = GridSearchCV(pipe_KNN, dict(selector__threshold=vthreshold,knn__n_neighbors=k), cv=10, scoring='f1_macro', n_jobs=-1)"
   ]
  },
  {
   "cell_type": "code",
   "execution_count": 19,
   "metadata": {},
   "outputs": [],
   "source": [
    "import time\n",
    "untrained_estimators=[estimator_Dummy_micro,estimator_GNB_micro,estimator_KNN_micro,estimator_Dummy_macro,estimator_GNB_macro,estimator_KNN_macro]\n",
    "labels=[\"Dummy_micro\",\"GNB_micro\",\"KNN_micro\",\"Dummy_macro\",\"GNB_macro\",\"KNN_macro\"]\n",
    "\n",
    "estimators, stats= get_best_parameters(X_train, y_train,untrained_estimators,labels)"
   ]
  },
  {
   "cell_type": "code",
   "execution_count": 20,
   "metadata": {},
   "outputs": [
    {
     "data": {
      "text/html": [
       "<style  type=\"text/css\" >\n",
       "    #T_90916cd8_2b34_11eb_b842_a402b96a9ea6row0_col0 {\n",
       "            background-color:  #d83128;\n",
       "            color:  #f1f1f1;\n",
       "        }    #T_90916cd8_2b34_11eb_b842_a402b96a9ea6row0_col1 {\n",
       "            background-color:  #b71126;\n",
       "            color:  #f1f1f1;\n",
       "        }    #T_90916cd8_2b34_11eb_b842_a402b96a9ea6row0_col2 {\n",
       "            background-color:  #da362a;\n",
       "            color:  #f1f1f1;\n",
       "        }    #T_90916cd8_2b34_11eb_b842_a402b96a9ea6row0_col3 {\n",
       "            background-color:  #b71126;\n",
       "            color:  #f1f1f1;\n",
       "        }    #T_90916cd8_2b34_11eb_b842_a402b96a9ea6row0_col4 {\n",
       "            background-color:  #c21c27;\n",
       "            color:  #f1f1f1;\n",
       "        }    #T_90916cd8_2b34_11eb_b842_a402b96a9ea6row0_col5 {\n",
       "            background-color:  #b71126;\n",
       "            color:  #f1f1f1;\n",
       "        }    #T_90916cd8_2b34_11eb_b842_a402b96a9ea6row0_col6 {\n",
       "            background-color:  #eff9dd;\n",
       "            color:  #000000;\n",
       "        }    #T_90916cd8_2b34_11eb_b842_a402b96a9ea6row1_col0 {\n",
       "            background-color:  #34409a;\n",
       "            color:  #f1f1f1;\n",
       "        }    #T_90916cd8_2b34_11eb_b842_a402b96a9ea6row1_col1 {\n",
       "            background-color:  #313695;\n",
       "            color:  #f1f1f1;\n",
       "        }    #T_90916cd8_2b34_11eb_b842_a402b96a9ea6row1_col2 {\n",
       "            background-color:  #313695;\n",
       "            color:  #f1f1f1;\n",
       "        }    #T_90916cd8_2b34_11eb_b842_a402b96a9ea6row1_col3 {\n",
       "            background-color:  #313695;\n",
       "            color:  #f1f1f1;\n",
       "        }    #T_90916cd8_2b34_11eb_b842_a402b96a9ea6row1_col4 {\n",
       "            background-color:  #313695;\n",
       "            color:  #f1f1f1;\n",
       "        }    #T_90916cd8_2b34_11eb_b842_a402b96a9ea6row1_col5 {\n",
       "            background-color:  #313695;\n",
       "            color:  #f1f1f1;\n",
       "        }    #T_90916cd8_2b34_11eb_b842_a402b96a9ea6row1_col6 {\n",
       "            background-color:  #b30d26;\n",
       "            color:  #f1f1f1;\n",
       "        }    #T_90916cd8_2b34_11eb_b842_a402b96a9ea6row2_col0 {\n",
       "            background-color:  #313695;\n",
       "            color:  #f1f1f1;\n",
       "        }    #T_90916cd8_2b34_11eb_b842_a402b96a9ea6row2_col1 {\n",
       "            background-color:  #3f62ab;\n",
       "            color:  #f1f1f1;\n",
       "        }    #T_90916cd8_2b34_11eb_b842_a402b96a9ea6row2_col2 {\n",
       "            background-color:  #72abd0;\n",
       "            color:  #000000;\n",
       "        }    #T_90916cd8_2b34_11eb_b842_a402b96a9ea6row2_col3 {\n",
       "            background-color:  #3f62ab;\n",
       "            color:  #f1f1f1;\n",
       "        }    #T_90916cd8_2b34_11eb_b842_a402b96a9ea6row2_col4 {\n",
       "            background-color:  #4a7ab7;\n",
       "            color:  #000000;\n",
       "        }    #T_90916cd8_2b34_11eb_b842_a402b96a9ea6row2_col5 {\n",
       "            background-color:  #3f62ab;\n",
       "            color:  #f1f1f1;\n",
       "        }    #T_90916cd8_2b34_11eb_b842_a402b96a9ea6row2_col6 {\n",
       "            background-color:  #313695;\n",
       "            color:  #f1f1f1;\n",
       "        }    #T_90916cd8_2b34_11eb_b842_a402b96a9ea6row3_col0 {\n",
       "            background-color:  #a50026;\n",
       "            color:  #f1f1f1;\n",
       "        }    #T_90916cd8_2b34_11eb_b842_a402b96a9ea6row3_col1 {\n",
       "            background-color:  #a50026;\n",
       "            color:  #f1f1f1;\n",
       "        }    #T_90916cd8_2b34_11eb_b842_a402b96a9ea6row3_col2 {\n",
       "            background-color:  #a50026;\n",
       "            color:  #f1f1f1;\n",
       "        }    #T_90916cd8_2b34_11eb_b842_a402b96a9ea6row3_col3 {\n",
       "            background-color:  #a50026;\n",
       "            color:  #f1f1f1;\n",
       "        }    #T_90916cd8_2b34_11eb_b842_a402b96a9ea6row3_col4 {\n",
       "            background-color:  #a50026;\n",
       "            color:  #f1f1f1;\n",
       "        }    #T_90916cd8_2b34_11eb_b842_a402b96a9ea6row3_col5 {\n",
       "            background-color:  #a50026;\n",
       "            color:  #f1f1f1;\n",
       "        }    #T_90916cd8_2b34_11eb_b842_a402b96a9ea6row3_col6 {\n",
       "            background-color:  #a50026;\n",
       "            color:  #f1f1f1;\n",
       "        }    #T_90916cd8_2b34_11eb_b842_a402b96a9ea6row4_col0 {\n",
       "            background-color:  #34409a;\n",
       "            color:  #f1f1f1;\n",
       "        }    #T_90916cd8_2b34_11eb_b842_a402b96a9ea6row4_col1 {\n",
       "            background-color:  #313695;\n",
       "            color:  #f1f1f1;\n",
       "        }    #T_90916cd8_2b34_11eb_b842_a402b96a9ea6row4_col2 {\n",
       "            background-color:  #313695;\n",
       "            color:  #f1f1f1;\n",
       "        }    #T_90916cd8_2b34_11eb_b842_a402b96a9ea6row4_col3 {\n",
       "            background-color:  #313695;\n",
       "            color:  #f1f1f1;\n",
       "        }    #T_90916cd8_2b34_11eb_b842_a402b96a9ea6row4_col4 {\n",
       "            background-color:  #313695;\n",
       "            color:  #f1f1f1;\n",
       "        }    #T_90916cd8_2b34_11eb_b842_a402b96a9ea6row4_col5 {\n",
       "            background-color:  #313695;\n",
       "            color:  #f1f1f1;\n",
       "        }    #T_90916cd8_2b34_11eb_b842_a402b96a9ea6row4_col6 {\n",
       "            background-color:  #a50026;\n",
       "            color:  #f1f1f1;\n",
       "        }    #T_90916cd8_2b34_11eb_b842_a402b96a9ea6row5_col0 {\n",
       "            background-color:  #313695;\n",
       "            color:  #f1f1f1;\n",
       "        }    #T_90916cd8_2b34_11eb_b842_a402b96a9ea6row5_col1 {\n",
       "            background-color:  #3f62ab;\n",
       "            color:  #f1f1f1;\n",
       "        }    #T_90916cd8_2b34_11eb_b842_a402b96a9ea6row5_col2 {\n",
       "            background-color:  #72abd0;\n",
       "            color:  #000000;\n",
       "        }    #T_90916cd8_2b34_11eb_b842_a402b96a9ea6row5_col3 {\n",
       "            background-color:  #3f62ab;\n",
       "            color:  #f1f1f1;\n",
       "        }    #T_90916cd8_2b34_11eb_b842_a402b96a9ea6row5_col4 {\n",
       "            background-color:  #4a7ab7;\n",
       "            color:  #000000;\n",
       "        }    #T_90916cd8_2b34_11eb_b842_a402b96a9ea6row5_col5 {\n",
       "            background-color:  #3f62ab;\n",
       "            color:  #f1f1f1;\n",
       "        }    #T_90916cd8_2b34_11eb_b842_a402b96a9ea6row5_col6 {\n",
       "            background-color:  #426cb0;\n",
       "            color:  #f1f1f1;\n",
       "        }</style><table id=\"T_90916cd8_2b34_11eb_b842_a402b96a9ea6\" ><thead>    <tr>        <th class=\"blank level0\" ></th>        <th class=\"col_heading level0 col0\" >precision (macro)</th>        <th class=\"col_heading level0 col1\" >precision (micro)</th>        <th class=\"col_heading level0 col2\" >recall (macro)</th>        <th class=\"col_heading level0 col3\" >recall (micro)</th>        <th class=\"col_heading level0 col4\" >f1 (macro)</th>        <th class=\"col_heading level0 col5\" >f1 (micro)</th>        <th class=\"col_heading level0 col6\" >time to train</th>        <th class=\"col_heading level0 col7\" >parameters</th>    </tr></thead><tbody>\n",
       "                <tr>\n",
       "                        <th id=\"T_90916cd8_2b34_11eb_b842_a402b96a9ea6level0_row0\" class=\"row_heading level0 row0\" >Dummy_micro</th>\n",
       "                        <td id=\"T_90916cd8_2b34_11eb_b842_a402b96a9ea6row0_col0\" class=\"data row0 col0\" >0.558468</td>\n",
       "                        <td id=\"T_90916cd8_2b34_11eb_b842_a402b96a9ea6row0_col1\" class=\"data row0 col1\" >0.535211</td>\n",
       "                        <td id=\"T_90916cd8_2b34_11eb_b842_a402b96a9ea6row0_col2\" class=\"data row0 col2\" >0.56567</td>\n",
       "                        <td id=\"T_90916cd8_2b34_11eb_b842_a402b96a9ea6row0_col3\" class=\"data row0 col3\" >0.535211</td>\n",
       "                        <td id=\"T_90916cd8_2b34_11eb_b842_a402b96a9ea6row0_col4\" class=\"data row0 col4\" >0.529234</td>\n",
       "                        <td id=\"T_90916cd8_2b34_11eb_b842_a402b96a9ea6row0_col5\" class=\"data row0 col5\" >0.535211</td>\n",
       "                        <td id=\"T_90916cd8_2b34_11eb_b842_a402b96a9ea6row0_col6\" class=\"data row0 col6\" >7.53558</td>\n",
       "                        <td id=\"T_90916cd8_2b34_11eb_b842_a402b96a9ea6row0_col7\" class=\"data row0 col7\" >[('threshold', 0.2)]</td>\n",
       "            </tr>\n",
       "            <tr>\n",
       "                        <th id=\"T_90916cd8_2b34_11eb_b842_a402b96a9ea6level0_row1\" class=\"row_heading level0 row1\" >GNB_micro</th>\n",
       "                        <td id=\"T_90916cd8_2b34_11eb_b842_a402b96a9ea6row1_col0\" class=\"data row1 col0\" >0.898261</td>\n",
       "                        <td id=\"T_90916cd8_2b34_11eb_b842_a402b96a9ea6row1_col1\" class=\"data row1 col1\" >0.915493</td>\n",
       "                        <td id=\"T_90916cd8_2b34_11eb_b842_a402b96a9ea6row1_col2\" class=\"data row1 col2\" >0.914855</td>\n",
       "                        <td id=\"T_90916cd8_2b34_11eb_b842_a402b96a9ea6row1_col3\" class=\"data row1 col3\" >0.915493</td>\n",
       "                        <td id=\"T_90916cd8_2b34_11eb_b842_a402b96a9ea6row1_col4\" class=\"data row1 col4\" >0.905585</td>\n",
       "                        <td id=\"T_90916cd8_2b34_11eb_b842_a402b96a9ea6row1_col5\" class=\"data row1 col5\" >0.915493</td>\n",
       "                        <td id=\"T_90916cd8_2b34_11eb_b842_a402b96a9ea6row1_col6\" class=\"data row1 col6\" >0.691976</td>\n",
       "                        <td id=\"T_90916cd8_2b34_11eb_b842_a402b96a9ea6row1_col7\" class=\"data row1 col7\" >[('threshold', 0)]</td>\n",
       "            </tr>\n",
       "            <tr>\n",
       "                        <th id=\"T_90916cd8_2b34_11eb_b842_a402b96a9ea6level0_row2\" class=\"row_heading level0 row2\" >KNN_micro</th>\n",
       "                        <td id=\"T_90916cd8_2b34_11eb_b842_a402b96a9ea6row2_col0\" class=\"data row2 col0\" >0.905773</td>\n",
       "                        <td id=\"T_90916cd8_2b34_11eb_b842_a402b96a9ea6row2_col1\" class=\"data row2 col1\" >0.887324</td>\n",
       "                        <td id=\"T_90916cd8_2b34_11eb_b842_a402b96a9ea6row2_col2\" class=\"data row2 col2\" >0.837409</td>\n",
       "                        <td id=\"T_90916cd8_2b34_11eb_b842_a402b96a9ea6row2_col3\" class=\"data row2 col3\" >0.887324</td>\n",
       "                        <td id=\"T_90916cd8_2b34_11eb_b842_a402b96a9ea6row2_col4\" class=\"data row2 col4\" >0.860784</td>\n",
       "                        <td id=\"T_90916cd8_2b34_11eb_b842_a402b96a9ea6row2_col5\" class=\"data row2 col5\" >0.887324</td>\n",
       "                        <td id=\"T_90916cd8_2b34_11eb_b842_a402b96a9ea6row2_col6\" class=\"data row2 col6\" >13.366</td>\n",
       "                        <td id=\"T_90916cd8_2b34_11eb_b842_a402b96a9ea6row2_col7\" class=\"data row2 col7\" >[('n_neighbors', 3), ('threshold', 0.1)]</td>\n",
       "            </tr>\n",
       "            <tr>\n",
       "                        <th id=\"T_90916cd8_2b34_11eb_b842_a402b96a9ea6level0_row3\" class=\"row_heading level0 row3\" >Dummy_macro</th>\n",
       "                        <td id=\"T_90916cd8_2b34_11eb_b842_a402b96a9ea6row3_col0\" class=\"data row3 col0\" >0.518651</td>\n",
       "                        <td id=\"T_90916cd8_2b34_11eb_b842_a402b96a9ea6row3_col1\" class=\"data row3 col1\" >0.521127</td>\n",
       "                        <td id=\"T_90916cd8_2b34_11eb_b842_a402b96a9ea6row3_col2\" class=\"data row3 col2\" >0.521286</td>\n",
       "                        <td id=\"T_90916cd8_2b34_11eb_b842_a402b96a9ea6row3_col3\" class=\"data row3 col3\" >0.521127</td>\n",
       "                        <td id=\"T_90916cd8_2b34_11eb_b842_a402b96a9ea6row3_col4\" class=\"data row3 col4\" >0.504516</td>\n",
       "                        <td id=\"T_90916cd8_2b34_11eb_b842_a402b96a9ea6row3_col5\" class=\"data row3 col5\" >0.521127</td>\n",
       "                        <td id=\"T_90916cd8_2b34_11eb_b842_a402b96a9ea6row3_col6\" class=\"data row3 col6\" >0.321535</td>\n",
       "                        <td id=\"T_90916cd8_2b34_11eb_b842_a402b96a9ea6row3_col7\" class=\"data row3 col7\" >[('threshold', 0.3)]</td>\n",
       "            </tr>\n",
       "            <tr>\n",
       "                        <th id=\"T_90916cd8_2b34_11eb_b842_a402b96a9ea6level0_row4\" class=\"row_heading level0 row4\" >GNB_macro</th>\n",
       "                        <td id=\"T_90916cd8_2b34_11eb_b842_a402b96a9ea6row4_col0\" class=\"data row4 col0\" >0.898261</td>\n",
       "                        <td id=\"T_90916cd8_2b34_11eb_b842_a402b96a9ea6row4_col1\" class=\"data row4 col1\" >0.915493</td>\n",
       "                        <td id=\"T_90916cd8_2b34_11eb_b842_a402b96a9ea6row4_col2\" class=\"data row4 col2\" >0.914855</td>\n",
       "                        <td id=\"T_90916cd8_2b34_11eb_b842_a402b96a9ea6row4_col3\" class=\"data row4 col3\" >0.915493</td>\n",
       "                        <td id=\"T_90916cd8_2b34_11eb_b842_a402b96a9ea6row4_col4\" class=\"data row4 col4\" >0.905585</td>\n",
       "                        <td id=\"T_90916cd8_2b34_11eb_b842_a402b96a9ea6row4_col5\" class=\"data row4 col5\" >0.915493</td>\n",
       "                        <td id=\"T_90916cd8_2b34_11eb_b842_a402b96a9ea6row4_col6\" class=\"data row4 col6\" >0.320003</td>\n",
       "                        <td id=\"T_90916cd8_2b34_11eb_b842_a402b96a9ea6row4_col7\" class=\"data row4 col7\" >[('threshold', 0)]</td>\n",
       "            </tr>\n",
       "            <tr>\n",
       "                        <th id=\"T_90916cd8_2b34_11eb_b842_a402b96a9ea6level0_row5\" class=\"row_heading level0 row5\" >KNN_macro</th>\n",
       "                        <td id=\"T_90916cd8_2b34_11eb_b842_a402b96a9ea6row5_col0\" class=\"data row5 col0\" >0.905773</td>\n",
       "                        <td id=\"T_90916cd8_2b34_11eb_b842_a402b96a9ea6row5_col1\" class=\"data row5 col1\" >0.887324</td>\n",
       "                        <td id=\"T_90916cd8_2b34_11eb_b842_a402b96a9ea6row5_col2\" class=\"data row5 col2\" >0.837409</td>\n",
       "                        <td id=\"T_90916cd8_2b34_11eb_b842_a402b96a9ea6row5_col3\" class=\"data row5 col3\" >0.887324</td>\n",
       "                        <td id=\"T_90916cd8_2b34_11eb_b842_a402b96a9ea6row5_col4\" class=\"data row5 col4\" >0.860784</td>\n",
       "                        <td id=\"T_90916cd8_2b34_11eb_b842_a402b96a9ea6row5_col5\" class=\"data row5 col5\" >0.887324</td>\n",
       "                        <td id=\"T_90916cd8_2b34_11eb_b842_a402b96a9ea6row5_col6\" class=\"data row5 col6\" >12.2165</td>\n",
       "                        <td id=\"T_90916cd8_2b34_11eb_b842_a402b96a9ea6row5_col7\" class=\"data row5 col7\" >[('n_neighbors', 3), ('threshold', 0.1)]</td>\n",
       "            </tr>\n",
       "    </tbody></table>"
      ],
      "text/plain": [
       "<pandas.io.formats.style.Styler at 0x1b4a0874288>"
      ]
     },
     "execution_count": 20,
     "metadata": {},
     "output_type": "execute_result"
    }
   ],
   "source": [
    "stats.style.background_gradient(cmap ='RdYlBu') "
   ]
  },
  {
   "cell_type": "code",
   "execution_count": 22,
   "metadata": {},
   "outputs": [
    {
     "name": "stdout",
     "output_type": "stream",
     "text": [
      "Dummy_micro\n",
      "The classification report for Dummy_micro\n",
      "              precision    recall  f1-score   support\n",
      "\n",
      "         Bad       0.29      0.43      0.35        23\n",
      "        Good       0.65      0.50      0.56        48\n",
      "\n",
      "    accuracy                           0.48        71\n",
      "   macro avg       0.47      0.47      0.46        71\n",
      "weighted avg       0.53      0.48      0.50        71\n",
      "\n",
      "The confusion matrix for Dummy_micro\n"
     ]
    },
    {
     "data": {
      "image/png": "[encoded data removed]",
      "text/plain": [
       "<Figure size 432x288 with 2 Axes>"
      ]
     },
     "metadata": {
      "needs_background": "light"
     },
     "output_type": "display_data"
    },
    {
     "name": "stdout",
     "output_type": "stream",
     "text": [
      "Dummy_macro\n",
      "The classification report for Dummy_macro\n",
      "              precision    recall  f1-score   support\n",
      "\n",
      "         Bad       0.28      0.48      0.35        23\n",
      "        Good       0.62      0.42      0.50        48\n",
      "\n",
      "    accuracy                           0.44        71\n",
      "   macro avg       0.45      0.45      0.43        71\n",
      "weighted avg       0.51      0.44      0.45        71\n",
      "\n",
      "The confusion matrix for Dummy_macro\n"
     ]
    },
    {
     "data": {
      "image/png": "[encoded data removed]",
      "text/plain": [
       "<Figure size 432x288 with 2 Axes>"
      ]
     },
     "metadata": {
      "needs_background": "light"
     },
     "output_type": "display_data"
    }
   ],
   "source": [
    "show_evaluation(X_test,y_test,estimators[0::3],labels[0::3],[\"Bad\",\"Good\"])"
   ]
  },
  {
   "cell_type": "markdown",
   "metadata": {},
   "source": [
    "Απ'τον dummy "
   ]
  },
  {
   "cell_type": "code",
   "execution_count": 23,
   "metadata": {},
   "outputs": [
    {
     "name": "stdout",
     "output_type": "stream",
     "text": [
      "GNB_micro\n",
      "The classification report for GNB_micro\n",
      "              precision    recall  f1-score   support\n",
      "\n",
      "         Bad       0.84      0.91      0.87        23\n",
      "        Good       0.96      0.92      0.94        48\n",
      "\n",
      "    accuracy                           0.92        71\n",
      "   macro avg       0.90      0.91      0.91        71\n",
      "weighted avg       0.92      0.92      0.92        71\n",
      "\n",
      "The confusion matrix for GNB_micro\n"
     ]
    },
    {
     "data": {
      "image/png": "[encoded data removed]",
      "text/plain": [
       "<Figure size 432x288 with 2 Axes>"
      ]
     },
     "metadata": {
      "needs_background": "light"
     },
     "output_type": "display_data"
    },
    {
     "name": "stdout",
     "output_type": "stream",
     "text": [
      "GNB_macro\n",
      "The classification report for GNB_macro\n",
      "              precision    recall  f1-score   support\n",
      "\n",
      "         Bad       0.84      0.91      0.87        23\n",
      "        Good       0.96      0.92      0.94        48\n",
      "\n",
      "    accuracy                           0.92        71\n",
      "   macro avg       0.90      0.91      0.91        71\n",
      "weighted avg       0.92      0.92      0.92        71\n",
      "\n",
      "The confusion matrix for GNB_macro\n"
     ]
    },
    {
     "data": {
      "image/png": "[encoded data removed]",
      "text/plain": [
       "<Figure size 432x288 with 2 Axes>"
      ]
     },
     "metadata": {
      "needs_background": "light"
     },
     "output_type": "display_data"
    }
   ],
   "source": [
    "show_evaluation(X_test,y_test,estimators[1::3],labels[1::3],[\"Bad\",\"Good\"])"
   ]
  },
  {
   "cell_type": "code",
   "execution_count": 24,
   "metadata": {},
   "outputs": [
    {
     "name": "stdout",
     "output_type": "stream",
     "text": [
      "KNN_micro\n",
      "The classification report for KNN_micro\n",
      "              precision    recall  f1-score   support\n",
      "\n",
      "         Bad       0.94      0.70      0.80        23\n",
      "        Good       0.87      0.98      0.92        48\n",
      "\n",
      "    accuracy                           0.89        71\n",
      "   macro avg       0.91      0.84      0.86        71\n",
      "weighted avg       0.89      0.89      0.88        71\n",
      "\n",
      "The confusion matrix for KNN_micro\n"
     ]
    },
    {
     "data": {
      "image/png": "[encoded data removed]",
      "text/plain": [
       "<Figure size 432x288 with 2 Axes>"
      ]
     },
     "metadata": {
      "needs_background": "light"
     },
     "output_type": "display_data"
    },
    {
     "name": "stdout",
     "output_type": "stream",
     "text": [
      "KNN_macro\n",
      "The classification report for KNN_macro\n",
      "              precision    recall  f1-score   support\n",
      "\n",
      "         Bad       0.94      0.70      0.80        23\n",
      "        Good       0.87      0.98      0.92        48\n",
      "\n",
      "    accuracy                           0.89        71\n",
      "   macro avg       0.91      0.84      0.86        71\n",
      "weighted avg       0.89      0.89      0.88        71\n",
      "\n",
      "The confusion matrix for KNN_macro\n"
     ]
    },
    {
     "data": {
      "image/png": "[encoded data removed]",
      "text/plain": [
       "<Figure size 432x288 with 2 Axes>"
      ]
     },
     "metadata": {
      "needs_background": "light"
     },
     "output_type": "display_data"
    }
   ],
   "source": [
    "show_evaluation(X_test,y_test,estimators[2::3],labels[2::3],[\"Bad\",\"Good\"])"
   ]
  },
  {
   "cell_type": "code",
   "execution_count": 25,
   "metadata": {},
   "outputs": [
    {
     "name": "stdout",
     "output_type": "stream",
     "text": [
      "# Metrics for all classifiers\n"
     ]
    },
    {
     "data": {
      "image/png": "[encoded data removed]",
      "text/plain": [
       "<Figure size 432x288 with 1 Axes>"
      ]
     },
     "metadata": {
      "needs_background": "light"
     },
     "output_type": "display_data"
    }
   ],
   "source": [
    "show_metrics(X_test,y_test,estimators,labels,[\"Bad\",\"Good\"])"
   ]
  },
  {
   "cell_type": "markdown",
   "metadata": {},
   "source": [
    "# Μεγάλο DataSet (B06)"
   ]
  },
  {
   "cell_type": "markdown",
   "metadata": {},
   "source": [
    "## Βασικές Πληροφορίες"
   ]
  },
  {
   "cell_type": "markdown",
   "metadata": {},
   "source": [
    "### 1. Σύντομη παρουσίαση του Dataset"
   ]
  },
  {
   "cell_type": "markdown",
   "metadata": {},
   "source": [
    "Το δεύτερο dataset που θα εξετάσουμε, το μεγάλο, είναι το Semeion. Πρόκειται για ένα πρόβλημα classification χειρόγραφων ψηφίων. <br>\n",
    "Για τη δημιουργία του dataset χρησιμοποιήθηκαν ψηφία γραμμένα από 80 ανθρώπους. Κάθε ένας σχεδίασε κάθε ψηφίο (από 0 έως 9) δύο φορές. Η 1η ήταν η acurate μορφή (προσπαθώντας να αποδώσει πιστά το ψηφίο) και η 2η ήταν με γρήγορο τρόπο.\n",
    "Συγκερκριμένα, κάθε δεδομένο προκύπτει από μια εικόνα 16x16 pixels, που περιέχει το σχεδιασμένο ψηφίο σε κλίμακα grayscale, το οποίο μετέπειτα έγινε map σε 0 και 1, ανάλογα με την τιμή των pixel. "
   ]
  },
  {
   "cell_type": "code",
   "execution_count": 161,
   "metadata": {
    "scrolled": true
   },
   "outputs": [
    {
     "data": {
      "text/html": [
       "<div>\n",
       "<style scoped>\n",
       "    .dataframe tbody tr th:only-of-type {\n",
       "        vertical-align: middle;\n",
       "    }\n",
       "\n",
       "    .dataframe tbody tr th {\n",
       "        vertical-align: top;\n",
       "    }\n",
       "\n",
       "    .dataframe thead th {\n",
       "        text-align: right;\n",
       "    }\n",
       "</style>\n",
       "<table border=\"1\" class=\"dataframe\">\n",
       "  <thead>\n",
       "    <tr style=\"text-align: right;\">\n",
       "      <th></th>\n",
       "      <th>0</th>\n",
       "      <th>1</th>\n",
       "      <th>2</th>\n",
       "      <th>3</th>\n",
       "      <th>4</th>\n",
       "      <th>5</th>\n",
       "      <th>6</th>\n",
       "      <th>7</th>\n",
       "      <th>8</th>\n",
       "      <th>9</th>\n",
       "      <th>...</th>\n",
       "      <th>256</th>\n",
       "      <th>257</th>\n",
       "      <th>258</th>\n",
       "      <th>259</th>\n",
       "      <th>260</th>\n",
       "      <th>261</th>\n",
       "      <th>262</th>\n",
       "      <th>263</th>\n",
       "      <th>264</th>\n",
       "      <th>265</th>\n",
       "    </tr>\n",
       "  </thead>\n",
       "  <tbody>\n",
       "    <tr>\n",
       "      <td>0</td>\n",
       "      <td>0.0</td>\n",
       "      <td>0.0</td>\n",
       "      <td>0.0</td>\n",
       "      <td>0.0</td>\n",
       "      <td>0.0</td>\n",
       "      <td>0.0</td>\n",
       "      <td>1.0</td>\n",
       "      <td>1.0</td>\n",
       "      <td>1.0</td>\n",
       "      <td>1.0</td>\n",
       "      <td>...</td>\n",
       "      <td>1</td>\n",
       "      <td>0</td>\n",
       "      <td>0</td>\n",
       "      <td>0</td>\n",
       "      <td>0</td>\n",
       "      <td>0</td>\n",
       "      <td>0</td>\n",
       "      <td>0</td>\n",
       "      <td>0</td>\n",
       "      <td>0</td>\n",
       "    </tr>\n",
       "    <tr>\n",
       "      <td>1</td>\n",
       "      <td>0.0</td>\n",
       "      <td>0.0</td>\n",
       "      <td>0.0</td>\n",
       "      <td>0.0</td>\n",
       "      <td>0.0</td>\n",
       "      <td>1.0</td>\n",
       "      <td>1.0</td>\n",
       "      <td>1.0</td>\n",
       "      <td>1.0</td>\n",
       "      <td>1.0</td>\n",
       "      <td>...</td>\n",
       "      <td>1</td>\n",
       "      <td>0</td>\n",
       "      <td>0</td>\n",
       "      <td>0</td>\n",
       "      <td>0</td>\n",
       "      <td>0</td>\n",
       "      <td>0</td>\n",
       "      <td>0</td>\n",
       "      <td>0</td>\n",
       "      <td>0</td>\n",
       "    </tr>\n",
       "    <tr>\n",
       "      <td>2</td>\n",
       "      <td>0.0</td>\n",
       "      <td>0.0</td>\n",
       "      <td>0.0</td>\n",
       "      <td>0.0</td>\n",
       "      <td>0.0</td>\n",
       "      <td>0.0</td>\n",
       "      <td>0.0</td>\n",
       "      <td>0.0</td>\n",
       "      <td>0.0</td>\n",
       "      <td>1.0</td>\n",
       "      <td>...</td>\n",
       "      <td>1</td>\n",
       "      <td>0</td>\n",
       "      <td>0</td>\n",
       "      <td>0</td>\n",
       "      <td>0</td>\n",
       "      <td>0</td>\n",
       "      <td>0</td>\n",
       "      <td>0</td>\n",
       "      <td>0</td>\n",
       "      <td>0</td>\n",
       "    </tr>\n",
       "    <tr>\n",
       "      <td>3</td>\n",
       "      <td>0.0</td>\n",
       "      <td>0.0</td>\n",
       "      <td>0.0</td>\n",
       "      <td>0.0</td>\n",
       "      <td>0.0</td>\n",
       "      <td>0.0</td>\n",
       "      <td>1.0</td>\n",
       "      <td>1.0</td>\n",
       "      <td>1.0</td>\n",
       "      <td>1.0</td>\n",
       "      <td>...</td>\n",
       "      <td>1</td>\n",
       "      <td>0</td>\n",
       "      <td>0</td>\n",
       "      <td>0</td>\n",
       "      <td>0</td>\n",
       "      <td>0</td>\n",
       "      <td>0</td>\n",
       "      <td>0</td>\n",
       "      <td>0</td>\n",
       "      <td>0</td>\n",
       "    </tr>\n",
       "    <tr>\n",
       "      <td>4</td>\n",
       "      <td>0.0</td>\n",
       "      <td>0.0</td>\n",
       "      <td>0.0</td>\n",
       "      <td>0.0</td>\n",
       "      <td>0.0</td>\n",
       "      <td>0.0</td>\n",
       "      <td>0.0</td>\n",
       "      <td>0.0</td>\n",
       "      <td>0.0</td>\n",
       "      <td>1.0</td>\n",
       "      <td>...</td>\n",
       "      <td>1</td>\n",
       "      <td>0</td>\n",
       "      <td>0</td>\n",
       "      <td>0</td>\n",
       "      <td>0</td>\n",
       "      <td>0</td>\n",
       "      <td>0</td>\n",
       "      <td>0</td>\n",
       "      <td>0</td>\n",
       "      <td>0</td>\n",
       "    </tr>\n",
       "  </tbody>\n",
       "</table>\n",
       "<p>5 rows × 266 columns</p>\n",
       "</div>"
      ],
      "text/plain": [
       "   0    1    2    3    4    5    6    7    8    9    ...  256  257  258  259  \\\n",
       "0  0.0  0.0  0.0  0.0  0.0  0.0  1.0  1.0  1.0  1.0  ...    1    0    0    0   \n",
       "1  0.0  0.0  0.0  0.0  0.0  1.0  1.0  1.0  1.0  1.0  ...    1    0    0    0   \n",
       "2  0.0  0.0  0.0  0.0  0.0  0.0  0.0  0.0  0.0  1.0  ...    1    0    0    0   \n",
       "3  0.0  0.0  0.0  0.0  0.0  0.0  1.0  1.0  1.0  1.0  ...    1    0    0    0   \n",
       "4  0.0  0.0  0.0  0.0  0.0  0.0  0.0  0.0  0.0  1.0  ...    1    0    0    0   \n",
       "\n",
       "   260  261  262  263  264  265  \n",
       "0    0    0    0    0    0    0  \n",
       "1    0    0    0    0    0    0  \n",
       "2    0    0    0    0    0    0  \n",
       "3    0    0    0    0    0    0  \n",
       "4    0    0    0    0    0    0  \n",
       "\n",
       "[5 rows x 266 columns]"
      ]
     },
     "execution_count": 161,
     "metadata": {},
     "output_type": "execute_result"
    }
   ],
   "source": [
    "data = pd.read_csv(\"data/semeion.data\",sep=\" \",header=None).drop(columns=266)\n",
    "data.head()"
   ]
  },
  {
   "cell_type": "markdown",
   "metadata": {},
   "source": [
    "### 2. Αριθμός δειγμάτων και χαρακτηριστικών, είδος χαρακτηριστικών. Υπάρχουν μη διατεταγμένα χαρακτηριστικά και ποια είναι αυτά;"
   ]
  },
  {
   "cell_type": "markdown",
   "metadata": {},
   "source": [
    "Έχουμε 1593 δείγματα και 256 χαρακτηριστικά. Το είδος των χαρακτηριστικών είναι boolean (0, 1) και δεν υπάρχουν μη διατεταγμένα χαρακτηριστικά."
   ]
  },
  {
   "cell_type": "code",
   "execution_count": 162,
   "metadata": {},
   "outputs": [
    {
     "data": {
      "image/png": "[encoded data removed]",
      "text/plain": [
       "<Figure size 432x288 with 1 Axes>"
      ]
     },
     "metadata": {
      "needs_background": "light"
     },
     "output_type": "display_data"
    }
   ],
   "source": [
    "features=data.to_numpy()[:,:256]\n",
    "labels=data.to_numpy()[:,256:]\n",
    "\n",
    "import matplotlib.pyplot as plt\n",
    "pixels = features[6]\n",
    "pixels = pixels.reshape((16, 16))\n",
    "plt.imshow(pixels, cmap='gray')\n",
    "plt.show()"
   ]
  },
  {
   "cell_type": "markdown",
   "metadata": {},
   "source": [
    "### 3. Υπάρχουν επικεφαλίδες; Αρίθμηση γραμμών;"
   ]
  },
  {
   "cell_type": "markdown",
   "metadata": {},
   "source": [
    "Στο αρχείο δεν υπάρχουν επικεφαλίδες, ούτε αρίθμιση γραμμών."
   ]
  },
  {
   "cell_type": "markdown",
   "metadata": {},
   "source": [
    "### 4. Ποιες είναι οι ετικέτες των κλάσεων και σε ποια κολόνα βρίσκονται; "
   ]
  },
  {
   "cell_type": "markdown",
   "metadata": {},
   "source": [
    "Οι ετικέτες των κλάσεων βρίσκονται στις 10 τελευταίες στήλες και είναι σε one hot encoding (η θέση του 1 συμβολίζει την κλάση στην οποία ανήκει)."
   ]
  },
  {
   "cell_type": "markdown",
   "metadata": {},
   "source": [
    "### 5. Χρειάστηκε να κάνετε μετατροπές στα αρχεία text και ποιες;"
   ]
  },
  {
   "cell_type": "markdown",
   "metadata": {},
   "source": [
    "Από το dataset πήραμε τις 256 πρώτες στήλες ώς features και τις 10 τελευταίες ως labels."
   ]
  },
  {
   "cell_type": "code",
   "execution_count": 163,
   "metadata": {},
   "outputs": [],
   "source": [
    "features=data.to_numpy()[:,:256]\n",
    "labels=data.to_numpy()[:,256:]"
   ]
  },
  {
   "cell_type": "markdown",
   "metadata": {},
   "source": [
    "### 6. Υπάρχουν απουσιάζουσες τιμές; Πόσα είναι τα δείγματα με απουσιάζουσες τιμές και ποιο το ποσοστό τους επί του συνόλου; "
   ]
  },
  {
   "cell_type": "markdown",
   "metadata": {},
   "source": [
    "Τα δεδομένα μας δεν περιέχουν missing values. "
   ]
  },
  {
   "cell_type": "code",
   "execution_count": 164,
   "metadata": {},
   "outputs": [
    {
     "data": {
      "text/plain": [
       "False"
      ]
     },
     "execution_count": 164,
     "metadata": {},
     "output_type": "execute_result"
    }
   ],
   "source": [
    "data.isnull().values.any()"
   ]
  },
  {
   "cell_type": "markdown",
   "metadata": {},
   "source": [
    "### 7. Ποιος είναι ο αριθμός των κλάσεων και τα ποσοστά δειγμάτων τους επί του συνόλου; Αν θεωρήσουμε ότι ένα dataset είναι μη ισορροπημένο αν μια οποιαδήποτε κλάση είναι 1.5 φορά πιο συχνή από κάποια άλλη (60%-40% σε binary datasets) εκτιμήστε την ισορροπία του dataset."
   ]
  },
  {
   "cell_type": "markdown",
   "metadata": {},
   "source": [
    "Ο αριθμός των κλάσεων είναι 10."
   ]
  },
  {
   "cell_type": "code",
   "execution_count": 165,
   "metadata": {},
   "outputs": [
    {
     "name": "stdout",
     "output_type": "stream",
     "text": [
      "Η ισορροπία του dataset 1.05\n"
     ]
    }
   ],
   "source": [
    "from sklearn.utils.multiclass import unique_labels\n",
    "from sklearn.preprocessing import OneHotEncoder\n",
    "\n",
    "enc = OneHotEncoder(handle_unknown='ignore')\n",
    "enc=enc.fit(unique_labels(labels).reshape(-1, 1))\n",
    "\n",
    "labelsN = enc.inverse_transform(labels).reshape(1,len(labels))[0]\n",
    "classes = unique_labels(labels)\n",
    "Pall = []\n",
    "for label in classes:\n",
    "    P=100*sum(labelsN==label)/len(labelsN)\n",
    "    Pall.append(P)\n",
    "  \n",
    "print(\"Η ισορροπία του dataset \"+str(round(max(Pall)/min(Pall),2)))"
   ]
  },
  {
   "cell_type": "markdown",
   "metadata": {},
   "source": [
    "### 8. Διαχωρίστε σε train και test set. Εάν υπάρχουν απουσιάζουσες τιμές και μη διατεταγμένα χαρακτηριστικά διαχειριστείτε τα και αιτιολογήστε τις επιλογές σας."
   ]
  },
  {
   "cell_type": "markdown",
   "metadata": {},
   "source": [
    "Χωρίζουμε τα χαρακτηριστικά μας σε train και test sets."
   ]
  },
  {
   "cell_type": "code",
   "execution_count": 166,
   "metadata": {},
   "outputs": [],
   "source": [
    "from sklearn.model_selection import train_test_split\n",
    "X_train, X_test , y_train, y_test = train_test_split(features,labelsN,test_size=0.3,shuffle=True,random_state=20204)"
   ]
  },
  {
   "cell_type": "markdown",
   "metadata": {},
   "source": [
    "# Ταξινόμηση\n"
   ]
  },
  {
   "cell_type": "markdown",
   "metadata": {},
   "source": [
    "Οι ταξινομητές που θα εξετάσετε στο μεγάλο dataset είναι οι: dummy, Gaussian Naive Bayes, kΝΝ, Multi-Layer Perceptron (MLP), Support Vector Machines (SVM)\n",
    "\n",
    "Σε αυτό το dataset θα δούμε τους 5 παρακάτω Classifiers: \n",
    "* Dummy Classifier\n",
    "* Gaussian Naïve Bayes Classifier\n",
    "* K - Νearest Neighbors: Ο kNN είναι ταξινομητής όπου λαμβάνει υπόψιν τους k πιο κοντινούς γείτονες. \n",
    "* Multi-Layer Perceptron (MLP): Ο MLP (Multi-Layer Perceptrons) classifier είναι ένας ταξινομητής που υλοποιεί ένα βαθύ νευρωνικό δίκτυο. Έχει αρκετές υπερ παραμέτρους που αφορούν την αρχιτεκτονική και την υλοποίηση της εκμάθησης του νευρωνικού. \n",
    "* Support Vector Machines (SVM): Ο SVM (support vector machines) επιλύει το πρόβλημα του διαχωρισμού δύο κλάσεων με την εύρεση της βέλτιστης διαχωριστικής επιφάνειας. Ώς βέλτιστη διαχωριστική επιφάνεια ορίζουμε την επιφάνεια που έχει το μεγαλύτερο margin (περιθώριο από τα δείγματα).  \n",
    "\n",
    "[RBF](fig/svm.png)\n",
    "\n",
    "Επειδή αρκετά προβλήματα δεν είναι γραμμικά διαχωρίσιμα, έχουμε την δυνατότητα να μετατρέψουμε τον χώρο με ένα Kernel ώστε τα δεδομένα μας να είναι γραμμικά διαχωρίσιμα. \n",
    "\n",
    "[RBF](fig/kernal.png)\n",
    "\n",
    "Το πρόβλημα για multi class classification επιλύεται με μία one-vs-one στρατηγική.\n"
   ]
  },
  {
   "cell_type": "code",
   "execution_count": 195,
   "metadata": {},
   "outputs": [],
   "source": [
    "from sklearn.neural_network import MLPClassifier\n",
    "from sklearn.svm import SVC\n",
    "from sklearn.svm import LinearSVC"
   ]
  },
  {
   "cell_type": "markdown",
   "metadata": {},
   "source": [
    "### Baseline Classification"
   ]
  },
  {
   "cell_type": "markdown",
   "metadata": {},
   "source": [
    "### 1. Διαχειριστείτε τυχόν απουσιάζουσες τιμές. Εκπαιδεύστε στο train τους classifiers με default τιμές (απλή αρχικοποίηση). Κάντε εκτίμηση στο test set (μαζί με τους dummy) και τυπώστε για κάθε estimator: confusion matrix, f1-micro average και f1-macro average.\n",
    "\n",
    "### 2. Για κάθε averaged metric, εκτυπώστε bar plot συγκρισης με τις τιμές του συγκεκριμένου f1 για όλους τους classifiers.\n",
    "\n",
    "### 3. Σχολιάστε τα αποτελέσματα των plots και των τιμών precision, recall, f1 των πινάκων σύγχυσης"
   ]
  },
  {
   "cell_type": "code",
   "execution_count": 197,
   "metadata": {},
   "outputs": [
    {
     "name": "stderr",
     "output_type": "stream",
     "text": [
      "C:\\Users\\owner\\Anaconda3\\lib\\site-packages\\sklearn\\svm\\_base.py:977: ConvergenceWarning: Liblinear failed to converge, increase the number of iterations.\n",
      "  \"the number of iterations.\", ConvergenceWarning)\n"
     ]
    }
   ],
   "source": [
    "# init classifiers\n",
    "clf_Dummy=DummyClassifier(strategy=\"stratified\")\n",
    "clf_KNN=KNeighborsClassifier(n_jobs=-1)\n",
    "clf_GNB=GaussianNB()\n",
    "clf_MLP=MLPClassifier()\n",
    "clf_lSVC=LinearSVC()\n",
    "clf_SVC=SVC()\n",
    "\n",
    "#fit train set's data\n",
    "clf_Dummy=clf_Dummy.fit(X_train,y_train)\n",
    "clf_KNN=clf_KNN.fit(X_train,y_train)\n",
    "clf_GNB=clf_GNB.fit(X_train,y_train)\n",
    "clf_MLP=clf_MLP.fit(X_train,y_train)\n",
    "clf_lSVC=clf_lSVC.fit(X_train,y_train)\n",
    "clf_SVC=clf_SVC.fit(X_train,y_train)"
   ]
  },
  {
   "cell_type": "code",
   "execution_count": 169,
   "metadata": {},
   "outputs": [
    {
     "name": "stdout",
     "output_type": "stream",
     "text": [
      "Dummy\n",
      "The classification report for Dummy\n",
      "              precision    recall  f1-score   support\n",
      "\n",
      "           0       0.06      0.07      0.06        43\n",
      "           1       0.09      0.08      0.09        50\n",
      "           2       0.17      0.09      0.12        54\n",
      "           3       0.05      0.06      0.05        48\n",
      "           4       0.19      0.15      0.16        54\n",
      "           5       0.08      0.06      0.07        49\n",
      "           6       0.10      0.13      0.12        45\n",
      "           7       0.05      0.05      0.05        43\n",
      "           8       0.09      0.11      0.10        45\n",
      "           9       0.02      0.02      0.02        47\n",
      "\n",
      "    accuracy                           0.08       478\n",
      "   macro avg       0.09      0.08      0.08       478\n",
      "weighted avg       0.09      0.08      0.09       478\n",
      "\n",
      "The confusion matrix for Dummy\n"
     ]
    },
    {
     "data": {
      "image/png": "[encoded data removed]",
      "text/plain": [
       "<Figure size 432x288 with 2 Axes>"
      ]
     },
     "metadata": {
      "needs_background": "light"
     },
     "output_type": "display_data"
    }
   ],
   "source": [
    "show_evaluation(X_test,y_test,[clf_Dummy],[\"Dummy\"],list(classes.astype(str)))"
   ]
  },
  {
   "cell_type": "code",
   "execution_count": 170,
   "metadata": {},
   "outputs": [
    {
     "name": "stdout",
     "output_type": "stream",
     "text": [
      "GNB\n",
      "The classification report for GNB\n",
      "              precision    recall  f1-score   support\n",
      "\n",
      "           0       0.95      0.84      0.89        43\n",
      "           1       0.49      0.92      0.64        50\n",
      "           2       1.00      0.48      0.65        54\n",
      "           3       0.97      0.75      0.85        48\n",
      "           4       0.85      0.72      0.78        54\n",
      "           5       0.82      0.86      0.84        49\n",
      "           6       0.91      0.96      0.93        45\n",
      "           7       0.84      0.98      0.90        43\n",
      "           8       0.71      0.80      0.75        45\n",
      "           9       0.89      0.72      0.80        47\n",
      "\n",
      "    accuracy                           0.79       478\n",
      "   macro avg       0.84      0.80      0.80       478\n",
      "weighted avg       0.84      0.79      0.80       478\n",
      "\n",
      "The confusion matrix for GNB\n"
     ]
    },
    {
     "data": {
      "image/png": "[encoded data removed]",
      "text/plain": [
       "<Figure size 432x288 with 2 Axes>"
      ]
     },
     "metadata": {
      "needs_background": "light"
     },
     "output_type": "display_data"
    }
   ],
   "source": [
    "show_evaluation(X_test,y_test,[clf_GNB],[\"GNB\"],list(classes.astype(str)))"
   ]
  },
  {
   "cell_type": "code",
   "execution_count": 171,
   "metadata": {},
   "outputs": [
    {
     "name": "stdout",
     "output_type": "stream",
     "text": [
      "KNN\n",
      "The classification report for KNN\n",
      "              precision    recall  f1-score   support\n",
      "\n",
      "           0       0.93      0.95      0.94        43\n",
      "           1       0.80      0.98      0.88        50\n",
      "           2       0.94      0.89      0.91        54\n",
      "           3       0.83      1.00      0.91        48\n",
      "           4       0.98      0.91      0.94        54\n",
      "           5       0.90      0.96      0.93        49\n",
      "           6       0.92      1.00      0.96        45\n",
      "           7       0.95      0.84      0.89        43\n",
      "           8       0.90      0.80      0.85        45\n",
      "           9       0.94      0.70      0.80        47\n",
      "\n",
      "    accuracy                           0.90       478\n",
      "   macro avg       0.91      0.90      0.90       478\n",
      "weighted avg       0.91      0.90      0.90       478\n",
      "\n",
      "The confusion matrix for KNN\n"
     ]
    },
    {
     "data": {
      "image/png": "[encoded data removed]",
      "text/plain": [
       "<Figure size 432x288 with 2 Axes>"
      ]
     },
     "metadata": {
      "needs_background": "light"
     },
     "output_type": "display_data"
    }
   ],
   "source": [
    "show_evaluation(X_test,y_test,[clf_KNN],[\"KNN\"],list(classes.astype(str)))"
   ]
  },
  {
   "cell_type": "code",
   "execution_count": 172,
   "metadata": {},
   "outputs": [
    {
     "name": "stdout",
     "output_type": "stream",
     "text": [
      "MLP\n",
      "The classification report for MLP\n",
      "              precision    recall  f1-score   support\n",
      "\n",
      "           0       1.00      0.88      0.94        43\n",
      "           1       0.88      0.98      0.92        50\n",
      "           2       0.93      0.94      0.94        54\n",
      "           3       0.94      0.94      0.94        48\n",
      "           4       0.96      0.91      0.93        54\n",
      "           5       0.98      0.94      0.96        49\n",
      "           6       0.96      0.98      0.97        45\n",
      "           7       0.91      0.93      0.92        43\n",
      "           8       0.83      0.84      0.84        45\n",
      "           9       0.87      0.87      0.87        47\n",
      "\n",
      "    accuracy                           0.92       478\n",
      "   macro avg       0.92      0.92      0.92       478\n",
      "weighted avg       0.92      0.92      0.92       478\n",
      "\n",
      "The confusion matrix for MLP\n"
     ]
    },
    {
     "data": {
      "image/png": "[encoded data removed]",
      "text/plain": [
       "<Figure size 432x288 with 2 Axes>"
      ]
     },
     "metadata": {
      "needs_background": "light"
     },
     "output_type": "display_data"
    }
   ],
   "source": [
    "show_evaluation(X_test,y_test,[clf_MLP],[\"MLP\"],list(classes.astype(str)))"
   ]
  },
  {
   "cell_type": "code",
   "execution_count": 173,
   "metadata": {},
   "outputs": [
    {
     "name": "stdout",
     "output_type": "stream",
     "text": [
      "SVC\n",
      "The classification report for SVC\n",
      "              precision    recall  f1-score   support\n",
      "\n",
      "           0       1.00      0.91      0.95        43\n",
      "           1       0.91      1.00      0.95        50\n",
      "           2       0.96      0.94      0.95        54\n",
      "           3       0.92      1.00      0.96        48\n",
      "           4       0.98      0.91      0.94        54\n",
      "           5       0.92      0.96      0.94        49\n",
      "           6       1.00      0.98      0.99        45\n",
      "           7       0.95      0.95      0.95        43\n",
      "           8       0.90      0.96      0.92        45\n",
      "           9       0.95      0.87      0.91        47\n",
      "\n",
      "    accuracy                           0.95       478\n",
      "   macro avg       0.95      0.95      0.95       478\n",
      "weighted avg       0.95      0.95      0.95       478\n",
      "\n",
      "The confusion matrix for SVC\n"
     ]
    },
    {
     "data": {
      "image/png": "[encoded data removed]",
      "text/plain": [
       "<Figure size 432x288 with 2 Axes>"
      ]
     },
     "metadata": {
      "needs_background": "light"
     },
     "output_type": "display_data"
    }
   ],
   "source": [
    "show_evaluation(X_test,y_test,[clf_SVC],[\"SVC\"],list(classes.astype(str)))"
   ]
  },
  {
   "cell_type": "code",
   "execution_count": 176,
   "metadata": {},
   "outputs": [
    {
     "name": "stdout",
     "output_type": "stream",
     "text": [
      "# Metrics for all classifiers\n"
     ]
    },
    {
     "data": {
      "image/png": "[encoded data removed]",
      "text/plain": [
       "<Figure size 432x288 with 1 Axes>"
      ]
     },
     "metadata": {
      "needs_background": "light"
     },
     "output_type": "display_data"
    }
   ],
   "source": [
    "show_metrics(X_test,y_test,[clf_Dummy,clf_GNB,clf_KNN,clf_MLP,clf_SVC],[\"Dummy\",\"GNB\",\"KNN\",\"MLP\",\"SVC\"],list(classes.astype(str)))"
   ]
  },
  {
   "cell_type": "markdown",
   "metadata": {},
   "source": [
    "## Βελτιστοποίηση ταξινομητών"
   ]
  },
  {
   "cell_type": "markdown",
   "metadata": {},
   "source": [
    "Στην συνέχεια, θα προσπαθήσουμε να βελτιστοποιήσουμε τους παραπάνω classifiers με την διαδικασία του preprocessing. "
   ]
  },
  {
   "cell_type": "markdown",
   "metadata": {},
   "source": [
    "Στον **kNN** προσπαθούμε να βελτιστοποιήσουμε τις υπερπαραμέτρους  n_neighbors, metric και weights: <br>\n",
    "\n",
    "* n_neighbors: Το n_neighbors αφορά τον αριθμό των γειτόνων που λαμβάνουμε υπόψιν. \n",
    "* metric: Το weights παίρνει την τιμή “uniform”, στην οποία μετράμε όλους τους γείτονες ισότιμα, ή τιμή “distance”, όπου ανάλογα με την απόσταση, οι πιο κοντινοί κόμβοι έχουν μεγαλύτερη επιρροή. \n",
    "* weights: Το metric είναι η μετρική απόστασης για το tree, δηλαδή ο τρόπος που μετράμε την απόσταση. Η  default τιμή του για real-valued vector spaces είναι το minkowski και εμείς προσθέσαμε και τις euclidean, manhattan, minkowski και seuclidean."
   ]
  },
  {
   "cell_type": "markdown",
   "metadata": {},
   "source": [
    "Για τον **MLP** χρησιμοποιούμε τις εξής υπερπαραμέτρους που θα προσπαθήσουμε να βελτιστοποιήσουμε είναι οι παρακάτω: <br>\n",
    "\n",
    "* hidden_layer_sizes: Αριθμός νευρόνων στα κρυφά επίπεδα του νευρωνικού. Χρησιμοποιήθηκε μόνο ένα κρυφό επίπεδο. \n",
    "* Activation: Συνάρτηση ενεργοποίησης του κάθε νευρώνα.\n",
    "* Solver: Η υλοποίηση του τρόπου πα θα εκτελεστεί ο backpropagation και η ενημέρωση των βαρών.\n",
    "* Max_iter: Μέγιστος αριθμός εποχών που θα τρέξει η εκπαίδευση του νευρωνικού (backpropagation)\n",
    "* Learning_rate: Η παράμετρος εκμάθησης για την ενημέρωση του αλγορίθμου. Όπου πέρα από την σταθερά εξετάστηκαν και παραμετρικές συναρτήσεις."
   ]
  },
  {
   "cell_type": "markdown",
   "metadata": {},
   "source": [
    "Οι υπερπαράμετροι που θα προσπαθήσουμε να βελτιστοποιήσουμε συνολικά στο **SVC** είναι οι παρακάτω: <br>\n",
    "\n",
    "* kernel: Προσδιορίζει τον πυρήνα (kernel) που θα χρησιμοποιηθεί στον αλγόριθμο. Εμείς επιλέγουμε ανάμεσα σε poly και rbf. Τον linear τον έχουμε σε ξεχωριστή περίπτωση.\n",
    "* C (all): Είναι μια παράμετρος κόστους την οποία πληρώνουμε για τα misclassification. Μικρό C επιτρέπει να κάποια misclassification ώστε να έχουμε καλύτερη λειτουργία στα δεδομένα που δεν βρίσκονται στο train set.\n",
    "* degree (poly only): Η τάξη της πολυωνυμικής συνάρτησης του πυρήνα.\n",
    "* gamma (poly, rbf): Αυτή η παράμετρος καθορίζει την επιρροή του κάθε δεδομένου. Μικρές τιμές σημαίνουν μεγάλη επιρροή. \n",
    "* tol (all): Ορίζει να σταματήσει όταν φτάσουμε μια συγκεκριμένη tolerance, δηλαδή είμαστε κοντά στο στόχο μας.\n",
    "* loss (linear only): Ορίζει τη συνάρτηση κόστους (loss function). Αυτή καθορίζει την απόσταση prediction - actual label."
   ]
  },
  {
   "cell_type": "code",
   "execution_count": 252,
   "metadata": {},
   "outputs": [],
   "source": [
    "# υπερπαράμετροι του pre-processing \n",
    "vthreshold = [0,0.05,0.1,0.5]\n",
    "n_components = [200,150,100]\n",
    "\n",
    "# οι υπερπαράμετροι του ταξινομητή kNN\n",
    "k = [1,3, 5,7, 9, 11, 21, 31]\n",
    "weights = [\"uniform\",\"distance\"]\n",
    "metric = [\"euclidean\", \"manhattan\" ,\"minkowski\", \"seuclidean\"]\n",
    "\n",
    "# οι υπερπαράμετροι του ταξινομητή MLP\n",
    "hidden_layer_sizes = [(500,),(400,),(300,),(100,)]\n",
    "activation = [\"identity\", \"logistic\", \"tanh\", \"relu\"]\n",
    "solver = [\"lbfgs\", \"sgd\", \"adam\"]\n",
    "max_iter = [500, 200, 100]\n",
    "learning_rate = [\"constant\", \"invscaling\", \"adaptive\"] \n",
    "alpha = np.logspace(-5, 1, 4)\n",
    "\n",
    "# οι υπερπαράμετροι του ταξινομητή LinearSVC\n",
    "l_loss = [\"hinge\", \"squared_hinge\"]\n",
    "l_tol = np.logspace(-5, -1, 4)\n",
    "l_C = [1, 5, 10, 50, 100]\n",
    "\n",
    "# οι υπερπαράμετροι του ταξινομητή SVC (poly,rbf)\n",
    "kernel = [\"poly\",\"rbf\"]\n",
    "C = [1, 5, 10, 50, 100]\n",
    "degree = [2,3,5]           #rbf ignores degree\n",
    "gamma = [\"scale\", \"auto\"]\n",
    "tol = np.logspace(-5, -1, 4)"
   ]
  },
  {
   "cell_type": "code",
   "execution_count": 257,
   "metadata": {},
   "outputs": [],
   "source": [
    "from sklearn.decomposition import PCA\n",
    "\n",
    "selector = VarianceThreshold()\n",
    "ros = RandomOverSampler()\n",
    "pca = PCA()\n",
    "\n",
    "#scoring=[\"f1_micro\",\"f1_macro\"]\n",
    "\n",
    "pipe_Dummy = Pipeline(steps=[('selector', selector), ('pca', pca), ('dummy', clf_Dummy)], memory = 'tmp')\n",
    "pipe_GNB = Pipeline(steps=[('selector', selector), ('pca', pca), ('gnb', clf_GNB)],memory = 'tmp')\n",
    "pipe_KNN = Pipeline(steps=[('selector', selector), ('pca', pca), ('knn', clf_KNN)], memory = 'tmp')\n",
    "pipe_MLP = Pipeline(steps=[('selector', selector), ('pca', pca), ('mlp', clf_MLP)], memory = 'tmp')\n",
    "pipe_lSVC = Pipeline(steps=[('selector', selector), ('pca', pca), ('lsvc', clf_lSVC)], memory = 'tmp')\n",
    "pipe_SVC = Pipeline(steps=[('selector', selector), ('pca', pca), ('svc', clf_SVC)], memory = 'tmp')\n",
    "\n",
    "estimator_Dummy_micro = GridSearchCV(pipe_Dummy, dict(selector__threshold=vthreshold, pca__n_components=n_components), cv=5, scoring=\"f1_micro\", n_jobs=-1)\n",
    "estimator_GNB_micro = GridSearchCV(pipe_GNB, dict(selector__threshold=vthreshold, pca__n_components=n_components), cv=5, scoring=\"f1_micro\", n_jobs=-1)\n",
    "estimator_KNN_micro = GridSearchCV(pipe_KNN, dict(selector__threshold=vthreshold,pca__n_components=n_components,knn__n_neighbors=k,knn__weights=weights,knn__metric=metric), cv=5, scoring=\"f1_micro\", n_jobs=-1)\n",
    "estimator_MLP_micro = GridSearchCV(pipe_MLP, dict(selector__threshold=vthreshold,pca__n_components=n_components,mlp__hidden_layer_sizes=hidden_layer_sizes,mlp__activation=activation,mlp__solver=solver,mlp__max_iter=max_iter,mlp__learning_rate=learning_rate,mlp__alpha=alpha), cv=5, scoring=\"f1_micro\", n_jobs=-1)\n",
    "estimator_lSVC_micro = GridSearchCV(pipe_lSVC, dict(selector__threshold=vthreshold,pca__n_components=n_components,lsvc__loss=l_loss,lsvc__tol=l_tol,lsvc__C=l_C), cv=5, scoring=scoring, n_jobs=-1)\n",
    "estimator_SVC_micro = GridSearchCV(pipe_SVC, dict(selector__threshold=vthreshold,pca__n_components=n_components,svc__kernel=kernel,svc__C=C,svc__degree=degree,svc__gamma=gamma,svc__tol=tol), cv=5, scoring=\"f1_micro\", n_jobs=-1)\n",
    "\n",
    "estimator_Dummy_macro = GridSearchCV(pipe_Dummy, dict(selector__threshold=vthreshold,pca__n_components=n_components), cv=5, scoring=\"f1_macro\", n_jobs=-1)\n",
    "estimator_GNB_macro = GridSearchCV(pipe_GNB, dict(selector__threshold=vthreshold,pca__n_components=n_components), cv=5, scoring=\"f1_macro\", n_jobs=-1)\n",
    "estimator_KNN_macro = GridSearchCV(pipe_KNN, dict(selector__threshold=vthreshold,pca__n_components=n_components,knn__n_neighbors=k,knn__weights=weights,knn__metric=metric), cv=5, scoring=\"f1_macro\", n_jobs=-1)\n",
    "estimator_MLP_macro = GridSearchCV(pipe_MLP, dict(selector__threshold=vthreshold,pca__n_components=n_components,mlp__hidden_layer_sizes=hidden_layer_sizes,mlp__activation=activation,mlp__solver=solver,mlp__max_iter=max_iter,mlp__learning_rate=learning_rate,mlp__alpha=alpha), cv=5, scoring=\"f1_macro\", n_jobs=-1)\n",
    "estimator_lSVC_macro = GridSearchCV(pipe_lSVC, dict(selector__threshold=vthreshold,pca__n_components=n_components,lsvc__loss=l_loss,lsvc__tol=l_tol,lsvc__C=l_C), cv=5, scoring=\"f1_macro\", n_jobs=-1)\n",
    "estimator_SVC_macro = GridSearchCV(pipe_SVC, dict(selector__threshold=vthreshold,pca__n_components=n_components,svc__kernel=kernel,svc__C=C,svc__degree=degree,svc__gamma=gamma,svc__tol=tol), cv=5, scoring=\"f1_macro\", n_jobs=-1)"
   ]
  },
  {
   "cell_type": "code",
   "execution_count": 258,
   "metadata": {},
   "outputs": [
    {
     "ename": "KeyboardInterrupt",
     "evalue": "",
     "output_type": "error",
     "traceback": [
      "\u001b[1;31m---------------------------------------------------------------------------\u001b[0m",
      "\u001b[1;31mKeyboardInterrupt\u001b[0m                         Traceback (most recent call last)",
      "\u001b[1;32m<ipython-input-258-a6d4235d8e49>\u001b[0m in \u001b[0;36m<module>\u001b[1;34m\u001b[0m\n\u001b[0;32m      3\u001b[0m \u001b[0muntrained_estimators\u001b[0m\u001b[1;33m=\u001b[0m\u001b[1;33m[\u001b[0m\u001b[0mestimator_Dummy_micro\u001b[0m\u001b[1;33m,\u001b[0m\u001b[0mestimator_GNB_micro\u001b[0m\u001b[1;33m,\u001b[0m\u001b[0mestimator_KNN_micro\u001b[0m\u001b[1;33m,\u001b[0m\u001b[0mestimator_MLP_micro\u001b[0m\u001b[1;33m,\u001b[0m\u001b[0mestimator_lSVC_micro\u001b[0m\u001b[1;33m,\u001b[0m\u001b[0mestimator_SVC_micro\u001b[0m\u001b[1;33m,\u001b[0m \u001b[0mestimator_Dummy_macro\u001b[0m\u001b[1;33m,\u001b[0m \u001b[0mestimator_GNB_macro\u001b[0m\u001b[1;33m,\u001b[0m\u001b[0mestimator_KNN_macro\u001b[0m\u001b[1;33m,\u001b[0m\u001b[0mestimator_MLP_macro\u001b[0m\u001b[1;33m,\u001b[0m\u001b[0mestimator_lSVC_macro\u001b[0m\u001b[1;33m,\u001b[0m\u001b[0mestimator_SVC_macro\u001b[0m\u001b[1;33m]\u001b[0m\u001b[1;33m\u001b[0m\u001b[1;33m\u001b[0m\u001b[0m\n\u001b[0;32m      4\u001b[0m \u001b[1;33m\u001b[0m\u001b[0m\n\u001b[1;32m----> 5\u001b[1;33m \u001b[0mestimators\u001b[0m\u001b[1;33m,\u001b[0m \u001b[0mstats\u001b[0m\u001b[1;33m=\u001b[0m \u001b[0mget_best_parameters\u001b[0m\u001b[1;33m(\u001b[0m\u001b[0mX_train\u001b[0m\u001b[1;33m,\u001b[0m \u001b[0my_train\u001b[0m\u001b[1;33m,\u001b[0m\u001b[0muntrained_estimators\u001b[0m\u001b[1;33m,\u001b[0m\u001b[0mlabels\u001b[0m\u001b[1;33m)\u001b[0m\u001b[1;33m\u001b[0m\u001b[1;33m\u001b[0m\u001b[0m\n\u001b[0m",
      "\u001b[1;32m<ipython-input-15-dcdce0b58a6a>\u001b[0m in \u001b[0;36mget_best_parameters\u001b[1;34m(X_train, y_train, untrained_estimators, labels)\u001b[0m\n\u001b[0;32m     19\u001b[0m     \u001b[1;32mfor\u001b[0m \u001b[0mestimator\u001b[0m\u001b[1;33m,\u001b[0m\u001b[0mname\u001b[0m \u001b[1;32min\u001b[0m \u001b[0mzip\u001b[0m\u001b[1;33m(\u001b[0m\u001b[0muntrained_estimators\u001b[0m\u001b[1;33m,\u001b[0m\u001b[0mlabels\u001b[0m\u001b[1;33m)\u001b[0m\u001b[1;33m:\u001b[0m\u001b[1;33m\u001b[0m\u001b[1;33m\u001b[0m\u001b[0m\n\u001b[0;32m     20\u001b[0m         \u001b[0mstart_time\u001b[0m \u001b[1;33m=\u001b[0m \u001b[0mtime\u001b[0m\u001b[1;33m.\u001b[0m\u001b[0mtime\u001b[0m\u001b[1;33m(\u001b[0m\u001b[1;33m)\u001b[0m\u001b[1;33m\u001b[0m\u001b[1;33m\u001b[0m\u001b[0m\n\u001b[1;32m---> 21\u001b[1;33m         \u001b[0mtrained\u001b[0m\u001b[1;33m=\u001b[0m\u001b[0mestimator\u001b[0m\u001b[1;33m.\u001b[0m\u001b[0mfit\u001b[0m\u001b[1;33m(\u001b[0m\u001b[0mX_train\u001b[0m\u001b[1;33m,\u001b[0m \u001b[0my_train\u001b[0m\u001b[1;33m)\u001b[0m\u001b[1;33m\u001b[0m\u001b[1;33m\u001b[0m\u001b[0m\n\u001b[0m\u001b[0;32m     22\u001b[0m         \u001b[0mestimators\u001b[0m\u001b[1;33m.\u001b[0m\u001b[0mappend\u001b[0m\u001b[1;33m(\u001b[0m\u001b[0mtrained\u001b[0m\u001b[1;33m)\u001b[0m\u001b[1;33m\u001b[0m\u001b[1;33m\u001b[0m\u001b[0m\n\u001b[0;32m     23\u001b[0m         \u001b[0mpreds\u001b[0m \u001b[1;33m=\u001b[0m \u001b[0mestimator\u001b[0m\u001b[1;33m.\u001b[0m\u001b[0mpredict\u001b[0m\u001b[1;33m(\u001b[0m\u001b[0mX_test\u001b[0m\u001b[1;33m)\u001b[0m\u001b[1;33m\u001b[0m\u001b[1;33m\u001b[0m\u001b[0m\n",
      "\u001b[1;32m~\\Anaconda3\\lib\\site-packages\\sklearn\\utils\\validation.py\u001b[0m in \u001b[0;36minner_f\u001b[1;34m(*args, **kwargs)\u001b[0m\n\u001b[0;32m     70\u001b[0m                           FutureWarning)\n\u001b[0;32m     71\u001b[0m         \u001b[0mkwargs\u001b[0m\u001b[1;33m.\u001b[0m\u001b[0mupdate\u001b[0m\u001b[1;33m(\u001b[0m\u001b[1;33m{\u001b[0m\u001b[0mk\u001b[0m\u001b[1;33m:\u001b[0m \u001b[0marg\u001b[0m \u001b[1;32mfor\u001b[0m \u001b[0mk\u001b[0m\u001b[1;33m,\u001b[0m \u001b[0marg\u001b[0m \u001b[1;32min\u001b[0m \u001b[0mzip\u001b[0m\u001b[1;33m(\u001b[0m\u001b[0msig\u001b[0m\u001b[1;33m.\u001b[0m\u001b[0mparameters\u001b[0m\u001b[1;33m,\u001b[0m \u001b[0margs\u001b[0m\u001b[1;33m)\u001b[0m\u001b[1;33m}\u001b[0m\u001b[1;33m)\u001b[0m\u001b[1;33m\u001b[0m\u001b[1;33m\u001b[0m\u001b[0m\n\u001b[1;32m---> 72\u001b[1;33m         \u001b[1;32mreturn\u001b[0m \u001b[0mf\u001b[0m\u001b[1;33m(\u001b[0m\u001b[1;33m**\u001b[0m\u001b[0mkwargs\u001b[0m\u001b[1;33m)\u001b[0m\u001b[1;33m\u001b[0m\u001b[1;33m\u001b[0m\u001b[0m\n\u001b[0m\u001b[0;32m     73\u001b[0m     \u001b[1;32mreturn\u001b[0m \u001b[0minner_f\u001b[0m\u001b[1;33m\u001b[0m\u001b[1;33m\u001b[0m\u001b[0m\n\u001b[0;32m     74\u001b[0m \u001b[1;33m\u001b[0m\u001b[0m\n",
      "\u001b[1;32m~\\Anaconda3\\lib\\site-packages\\sklearn\\model_selection\\_search.py\u001b[0m in \u001b[0;36mfit\u001b[1;34m(self, X, y, groups, **fit_params)\u001b[0m\n\u001b[0;32m    734\u001b[0m                 \u001b[1;32mreturn\u001b[0m \u001b[0mresults\u001b[0m\u001b[1;33m\u001b[0m\u001b[1;33m\u001b[0m\u001b[0m\n\u001b[0;32m    735\u001b[0m \u001b[1;33m\u001b[0m\u001b[0m\n\u001b[1;32m--> 736\u001b[1;33m             \u001b[0mself\u001b[0m\u001b[1;33m.\u001b[0m\u001b[0m_run_search\u001b[0m\u001b[1;33m(\u001b[0m\u001b[0mevaluate_candidates\u001b[0m\u001b[1;33m)\u001b[0m\u001b[1;33m\u001b[0m\u001b[1;33m\u001b[0m\u001b[0m\n\u001b[0m\u001b[0;32m    737\u001b[0m \u001b[1;33m\u001b[0m\u001b[0m\n\u001b[0;32m    738\u001b[0m         \u001b[1;31m# For multi-metric evaluation, store the best_index_, best_params_ and\u001b[0m\u001b[1;33m\u001b[0m\u001b[1;33m\u001b[0m\u001b[1;33m\u001b[0m\u001b[0m\n",
      "\u001b[1;32m~\\Anaconda3\\lib\\site-packages\\sklearn\\model_selection\\_search.py\u001b[0m in \u001b[0;36m_run_search\u001b[1;34m(self, evaluate_candidates)\u001b[0m\n\u001b[0;32m   1186\u001b[0m     \u001b[1;32mdef\u001b[0m \u001b[0m_run_search\u001b[0m\u001b[1;33m(\u001b[0m\u001b[0mself\u001b[0m\u001b[1;33m,\u001b[0m \u001b[0mevaluate_candidates\u001b[0m\u001b[1;33m)\u001b[0m\u001b[1;33m:\u001b[0m\u001b[1;33m\u001b[0m\u001b[1;33m\u001b[0m\u001b[0m\n\u001b[0;32m   1187\u001b[0m         \u001b[1;34m\"\"\"Search all candidates in param_grid\"\"\"\u001b[0m\u001b[1;33m\u001b[0m\u001b[1;33m\u001b[0m\u001b[0m\n\u001b[1;32m-> 1188\u001b[1;33m         \u001b[0mevaluate_candidates\u001b[0m\u001b[1;33m(\u001b[0m\u001b[0mParameterGrid\u001b[0m\u001b[1;33m(\u001b[0m\u001b[0mself\u001b[0m\u001b[1;33m.\u001b[0m\u001b[0mparam_grid\u001b[0m\u001b[1;33m)\u001b[0m\u001b[1;33m)\u001b[0m\u001b[1;33m\u001b[0m\u001b[1;33m\u001b[0m\u001b[0m\n\u001b[0m\u001b[0;32m   1189\u001b[0m \u001b[1;33m\u001b[0m\u001b[0m\n\u001b[0;32m   1190\u001b[0m \u001b[1;33m\u001b[0m\u001b[0m\n",
      "\u001b[1;32m~\\Anaconda3\\lib\\site-packages\\sklearn\\model_selection\\_search.py\u001b[0m in \u001b[0;36mevaluate_candidates\u001b[1;34m(candidate_params)\u001b[0m\n\u001b[0;32m    713\u001b[0m                                \u001b[1;32mfor\u001b[0m \u001b[0mparameters\u001b[0m\u001b[1;33m,\u001b[0m \u001b[1;33m(\u001b[0m\u001b[0mtrain\u001b[0m\u001b[1;33m,\u001b[0m \u001b[0mtest\u001b[0m\u001b[1;33m)\u001b[0m\u001b[1;33m\u001b[0m\u001b[1;33m\u001b[0m\u001b[0m\n\u001b[0;32m    714\u001b[0m                                in product(candidate_params,\n\u001b[1;32m--> 715\u001b[1;33m                                           cv.split(X, y, groups)))\n\u001b[0m\u001b[0;32m    716\u001b[0m \u001b[1;33m\u001b[0m\u001b[0m\n\u001b[0;32m    717\u001b[0m                 \u001b[1;32mif\u001b[0m \u001b[0mlen\u001b[0m\u001b[1;33m(\u001b[0m\u001b[0mout\u001b[0m\u001b[1;33m)\u001b[0m \u001b[1;33m<\u001b[0m \u001b[1;36m1\u001b[0m\u001b[1;33m:\u001b[0m\u001b[1;33m\u001b[0m\u001b[1;33m\u001b[0m\u001b[0m\n",
      "\u001b[1;32m~\\Anaconda3\\lib\\site-packages\\joblib\\parallel.py\u001b[0m in \u001b[0;36m__call__\u001b[1;34m(self, iterable)\u001b[0m\n\u001b[0;32m    932\u001b[0m \u001b[1;33m\u001b[0m\u001b[0m\n\u001b[0;32m    933\u001b[0m             \u001b[1;32mwith\u001b[0m \u001b[0mself\u001b[0m\u001b[1;33m.\u001b[0m\u001b[0m_backend\u001b[0m\u001b[1;33m.\u001b[0m\u001b[0mretrieval_context\u001b[0m\u001b[1;33m(\u001b[0m\u001b[1;33m)\u001b[0m\u001b[1;33m:\u001b[0m\u001b[1;33m\u001b[0m\u001b[1;33m\u001b[0m\u001b[0m\n\u001b[1;32m--> 934\u001b[1;33m                 \u001b[0mself\u001b[0m\u001b[1;33m.\u001b[0m\u001b[0mretrieve\u001b[0m\u001b[1;33m(\u001b[0m\u001b[1;33m)\u001b[0m\u001b[1;33m\u001b[0m\u001b[1;33m\u001b[0m\u001b[0m\n\u001b[0m\u001b[0;32m    935\u001b[0m             \u001b[1;31m# Make sure that we get a last message telling us we are done\u001b[0m\u001b[1;33m\u001b[0m\u001b[1;33m\u001b[0m\u001b[1;33m\u001b[0m\u001b[0m\n\u001b[0;32m    936\u001b[0m             \u001b[0melapsed_time\u001b[0m \u001b[1;33m=\u001b[0m \u001b[0mtime\u001b[0m\u001b[1;33m.\u001b[0m\u001b[0mtime\u001b[0m\u001b[1;33m(\u001b[0m\u001b[1;33m)\u001b[0m \u001b[1;33m-\u001b[0m \u001b[0mself\u001b[0m\u001b[1;33m.\u001b[0m\u001b[0m_start_time\u001b[0m\u001b[1;33m\u001b[0m\u001b[1;33m\u001b[0m\u001b[0m\n",
      "\u001b[1;32m~\\Anaconda3\\lib\\site-packages\\joblib\\parallel.py\u001b[0m in \u001b[0;36mretrieve\u001b[1;34m(self)\u001b[0m\n\u001b[0;32m    831\u001b[0m             \u001b[1;32mtry\u001b[0m\u001b[1;33m:\u001b[0m\u001b[1;33m\u001b[0m\u001b[1;33m\u001b[0m\u001b[0m\n\u001b[0;32m    832\u001b[0m                 \u001b[1;32mif\u001b[0m \u001b[0mgetattr\u001b[0m\u001b[1;33m(\u001b[0m\u001b[0mself\u001b[0m\u001b[1;33m.\u001b[0m\u001b[0m_backend\u001b[0m\u001b[1;33m,\u001b[0m \u001b[1;34m'supports_timeout'\u001b[0m\u001b[1;33m,\u001b[0m \u001b[1;32mFalse\u001b[0m\u001b[1;33m)\u001b[0m\u001b[1;33m:\u001b[0m\u001b[1;33m\u001b[0m\u001b[1;33m\u001b[0m\u001b[0m\n\u001b[1;32m--> 833\u001b[1;33m                     \u001b[0mself\u001b[0m\u001b[1;33m.\u001b[0m\u001b[0m_output\u001b[0m\u001b[1;33m.\u001b[0m\u001b[0mextend\u001b[0m\u001b[1;33m(\u001b[0m\u001b[0mjob\u001b[0m\u001b[1;33m.\u001b[0m\u001b[0mget\u001b[0m\u001b[1;33m(\u001b[0m\u001b[0mtimeout\u001b[0m\u001b[1;33m=\u001b[0m\u001b[0mself\u001b[0m\u001b[1;33m.\u001b[0m\u001b[0mtimeout\u001b[0m\u001b[1;33m)\u001b[0m\u001b[1;33m)\u001b[0m\u001b[1;33m\u001b[0m\u001b[1;33m\u001b[0m\u001b[0m\n\u001b[0m\u001b[0;32m    834\u001b[0m                 \u001b[1;32melse\u001b[0m\u001b[1;33m:\u001b[0m\u001b[1;33m\u001b[0m\u001b[1;33m\u001b[0m\u001b[0m\n\u001b[0;32m    835\u001b[0m                     \u001b[0mself\u001b[0m\u001b[1;33m.\u001b[0m\u001b[0m_output\u001b[0m\u001b[1;33m.\u001b[0m\u001b[0mextend\u001b[0m\u001b[1;33m(\u001b[0m\u001b[0mjob\u001b[0m\u001b[1;33m.\u001b[0m\u001b[0mget\u001b[0m\u001b[1;33m(\u001b[0m\u001b[1;33m)\u001b[0m\u001b[1;33m)\u001b[0m\u001b[1;33m\u001b[0m\u001b[1;33m\u001b[0m\u001b[0m\n",
      "\u001b[1;32m~\\Anaconda3\\lib\\site-packages\\joblib\\_parallel_backends.py\u001b[0m in \u001b[0;36mwrap_future_result\u001b[1;34m(future, timeout)\u001b[0m\n\u001b[0;32m    519\u001b[0m         AsyncResults.get from multiprocessing.\"\"\"\n\u001b[0;32m    520\u001b[0m         \u001b[1;32mtry\u001b[0m\u001b[1;33m:\u001b[0m\u001b[1;33m\u001b[0m\u001b[1;33m\u001b[0m\u001b[0m\n\u001b[1;32m--> 521\u001b[1;33m             \u001b[1;32mreturn\u001b[0m \u001b[0mfuture\u001b[0m\u001b[1;33m.\u001b[0m\u001b[0mresult\u001b[0m\u001b[1;33m(\u001b[0m\u001b[0mtimeout\u001b[0m\u001b[1;33m=\u001b[0m\u001b[0mtimeout\u001b[0m\u001b[1;33m)\u001b[0m\u001b[1;33m\u001b[0m\u001b[1;33m\u001b[0m\u001b[0m\n\u001b[0m\u001b[0;32m    522\u001b[0m         \u001b[1;32mexcept\u001b[0m \u001b[0mLokyTimeoutError\u001b[0m\u001b[1;33m:\u001b[0m\u001b[1;33m\u001b[0m\u001b[1;33m\u001b[0m\u001b[0m\n\u001b[0;32m    523\u001b[0m             \u001b[1;32mraise\u001b[0m \u001b[0mTimeoutError\u001b[0m\u001b[1;33m(\u001b[0m\u001b[1;33m)\u001b[0m\u001b[1;33m\u001b[0m\u001b[1;33m\u001b[0m\u001b[0m\n",
      "\u001b[1;32m~\\Anaconda3\\lib\\concurrent\\futures\\_base.py\u001b[0m in \u001b[0;36mresult\u001b[1;34m(self, timeout)\u001b[0m\n\u001b[0;32m    428\u001b[0m                 \u001b[1;32mreturn\u001b[0m \u001b[0mself\u001b[0m\u001b[1;33m.\u001b[0m\u001b[0m__get_result\u001b[0m\u001b[1;33m(\u001b[0m\u001b[1;33m)\u001b[0m\u001b[1;33m\u001b[0m\u001b[1;33m\u001b[0m\u001b[0m\n\u001b[0;32m    429\u001b[0m \u001b[1;33m\u001b[0m\u001b[0m\n\u001b[1;32m--> 430\u001b[1;33m             \u001b[0mself\u001b[0m\u001b[1;33m.\u001b[0m\u001b[0m_condition\u001b[0m\u001b[1;33m.\u001b[0m\u001b[0mwait\u001b[0m\u001b[1;33m(\u001b[0m\u001b[0mtimeout\u001b[0m\u001b[1;33m)\u001b[0m\u001b[1;33m\u001b[0m\u001b[1;33m\u001b[0m\u001b[0m\n\u001b[0m\u001b[0;32m    431\u001b[0m \u001b[1;33m\u001b[0m\u001b[0m\n\u001b[0;32m    432\u001b[0m             \u001b[1;32mif\u001b[0m \u001b[0mself\u001b[0m\u001b[1;33m.\u001b[0m\u001b[0m_state\u001b[0m \u001b[1;32min\u001b[0m \u001b[1;33m[\u001b[0m\u001b[0mCANCELLED\u001b[0m\u001b[1;33m,\u001b[0m \u001b[0mCANCELLED_AND_NOTIFIED\u001b[0m\u001b[1;33m]\u001b[0m\u001b[1;33m:\u001b[0m\u001b[1;33m\u001b[0m\u001b[1;33m\u001b[0m\u001b[0m\n",
      "\u001b[1;32m~\\Anaconda3\\lib\\threading.py\u001b[0m in \u001b[0;36mwait\u001b[1;34m(self, timeout)\u001b[0m\n\u001b[0;32m    294\u001b[0m         \u001b[1;32mtry\u001b[0m\u001b[1;33m:\u001b[0m    \u001b[1;31m# restore state no matter what (e.g., KeyboardInterrupt)\u001b[0m\u001b[1;33m\u001b[0m\u001b[1;33m\u001b[0m\u001b[0m\n\u001b[0;32m    295\u001b[0m             \u001b[1;32mif\u001b[0m \u001b[0mtimeout\u001b[0m \u001b[1;32mis\u001b[0m \u001b[1;32mNone\u001b[0m\u001b[1;33m:\u001b[0m\u001b[1;33m\u001b[0m\u001b[1;33m\u001b[0m\u001b[0m\n\u001b[1;32m--> 296\u001b[1;33m                 \u001b[0mwaiter\u001b[0m\u001b[1;33m.\u001b[0m\u001b[0macquire\u001b[0m\u001b[1;33m(\u001b[0m\u001b[1;33m)\u001b[0m\u001b[1;33m\u001b[0m\u001b[1;33m\u001b[0m\u001b[0m\n\u001b[0m\u001b[0;32m    297\u001b[0m                 \u001b[0mgotit\u001b[0m \u001b[1;33m=\u001b[0m \u001b[1;32mTrue\u001b[0m\u001b[1;33m\u001b[0m\u001b[1;33m\u001b[0m\u001b[0m\n\u001b[0;32m    298\u001b[0m             \u001b[1;32melse\u001b[0m\u001b[1;33m:\u001b[0m\u001b[1;33m\u001b[0m\u001b[1;33m\u001b[0m\u001b[0m\n",
      "\u001b[1;31mKeyboardInterrupt\u001b[0m: "
     ]
    }
   ],
   "source": [
    "#untrained_estimators=[estimator_Dummy_micro,estimator_GNB_micro,estimator_KNN_micro,estimator_Dummy_macro,estimator_GNB_macro,estimator_KNN_macro]\n",
    "labels=[\"Dummy_micro\",\"GNB_micro\",\"KNN_micro\",\"MLP_micro\",\"linearSVC_micro\",\"SVC_micro\",\"Dummy_macro\",\"GNB_macro\",\"KNN_macro\",\"MLP_macro\",\"linearSVC_macro\",\"SVC_macro\"]\n",
    "untrained_estimators=[estimator_Dummy_micro,estimator_GNB_micro,estimator_KNN_micro,estimator_MLP_micro,estimator_lSVC_micro,estimator_SVC_micro, estimator_Dummy_macro, estimator_GNB_macro,estimator_KNN_macro,estimator_MLP_macro,estimator_lSVC_macro,estimator_SVC_macro]\n",
    "\n",
    "estimators, stats= get_best_parameters(X_train, y_train,untrained_estimators,labels)"
   ]
  },
  {
   "cell_type": "code",
   "execution_count": null,
   "metadata": {},
   "outputs": [],
   "source": [
    "stats.style.background_gradient(cmap ='RdYlBu') "
   ]
  },
  {
   "cell_type": "code",
   "execution_count": null,
   "metadata": {},
   "outputs": [],
   "source": [
    "show_metrics(X_test,y_test,estimators,labels,list(classes.astype(str)))"
   ]
  },
  {
   "cell_type": "code",
   "execution_count": null,
   "metadata": {},
   "outputs": [],
   "source": []
  }
 ],
 "metadata": {
  "kernelspec": {
   "display_name": "Python 3",
   "language": "python",
   "name": "python3"
  },
  "language_info": {
   "codemirror_mode": {
    "name": "ipython",
    "version": 3
   },
   "file_extension": ".py",
   "mimetype": "text/x-python",
   "name": "python",
   "nbconvert_exporter": "python",
   "pygments_lexer": "ipython3",
   "version": "3.7.4"
  }
 },
 "nbformat": 4,
 "nbformat_minor": 2
}
